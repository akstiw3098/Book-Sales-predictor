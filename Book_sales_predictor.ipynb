{
 "cells": [
  {
   "cell_type": "code",
   "execution_count": 1,
   "metadata": {},
   "outputs": [],
   "source": [
    "import numpy as np\n",
    "import pandas as pd\n",
    "import matplotlib.pyplot as plt\n",
    "import seaborn as sns\n",
    "%matplotlib inline"
   ]
  },
  {
   "cell_type": "code",
   "execution_count": 2,
   "metadata": {},
   "outputs": [],
   "source": [
    "df_train = pd.read_csv(r'C:\\Users\\asus\\Desktop\\Kaggle datset\\Books dataset\\Train.csv')"
   ]
  },
  {
   "cell_type": "code",
   "execution_count": 3,
   "metadata": {},
   "outputs": [
    {
     "data": {
      "text/html": [
       "<div>\n",
       "<style scoped>\n",
       "    .dataframe tbody tr th:only-of-type {\n",
       "        vertical-align: middle;\n",
       "    }\n",
       "\n",
       "    .dataframe tbody tr th {\n",
       "        vertical-align: top;\n",
       "    }\n",
       "\n",
       "    .dataframe thead th {\n",
       "        text-align: right;\n",
       "    }\n",
       "</style>\n",
       "<table border=\"1\" class=\"dataframe\">\n",
       "  <thead>\n",
       "    <tr style=\"text-align: right;\">\n",
       "      <th></th>\n",
       "      <th>ID</th>\n",
       "      <th>CONSOLE</th>\n",
       "      <th>YEAR</th>\n",
       "      <th>CATEGORY</th>\n",
       "      <th>PUBLISHER</th>\n",
       "      <th>RATING</th>\n",
       "      <th>CRITICS_POINTS</th>\n",
       "      <th>USER_POINTS</th>\n",
       "      <th>SalesInMillions</th>\n",
       "    </tr>\n",
       "  </thead>\n",
       "  <tbody>\n",
       "    <tr>\n",
       "      <th>0</th>\n",
       "      <td>2860</td>\n",
       "      <td>ds</td>\n",
       "      <td>2008</td>\n",
       "      <td>role-playing</td>\n",
       "      <td>Nintendo</td>\n",
       "      <td>E</td>\n",
       "      <td>2.833333</td>\n",
       "      <td>0.303704</td>\n",
       "      <td>1.779257</td>\n",
       "    </tr>\n",
       "    <tr>\n",
       "      <th>1</th>\n",
       "      <td>731</td>\n",
       "      <td>wii</td>\n",
       "      <td>2012</td>\n",
       "      <td>simulation</td>\n",
       "      <td>Konami Digital Entertainment</td>\n",
       "      <td>E10+</td>\n",
       "      <td>13.200000</td>\n",
       "      <td>1.640000</td>\n",
       "      <td>0.215050</td>\n",
       "    </tr>\n",
       "    <tr>\n",
       "      <th>2</th>\n",
       "      <td>495</td>\n",
       "      <td>pc</td>\n",
       "      <td>2019</td>\n",
       "      <td>shooter</td>\n",
       "      <td>Activision</td>\n",
       "      <td>M</td>\n",
       "      <td>4.562500</td>\n",
       "      <td>0.006410</td>\n",
       "      <td>0.534402</td>\n",
       "    </tr>\n",
       "    <tr>\n",
       "      <th>3</th>\n",
       "      <td>2641</td>\n",
       "      <td>ps2</td>\n",
       "      <td>2002</td>\n",
       "      <td>sports</td>\n",
       "      <td>Electronic Arts</td>\n",
       "      <td>E</td>\n",
       "      <td>4.181818</td>\n",
       "      <td>0.326923</td>\n",
       "      <td>1.383964</td>\n",
       "    </tr>\n",
       "    <tr>\n",
       "      <th>4</th>\n",
       "      <td>811</td>\n",
       "      <td>ps3</td>\n",
       "      <td>2013</td>\n",
       "      <td>action</td>\n",
       "      <td>Activision</td>\n",
       "      <td>M</td>\n",
       "      <td>2.259259</td>\n",
       "      <td>0.032579</td>\n",
       "      <td>0.082671</td>\n",
       "    </tr>\n",
       "  </tbody>\n",
       "</table>\n",
       "</div>"
      ],
      "text/plain": [
       "     ID CONSOLE  YEAR      CATEGORY                     PUBLISHER RATING  \\\n",
       "0  2860      ds  2008  role-playing                      Nintendo      E   \n",
       "1   731     wii  2012    simulation  Konami Digital Entertainment   E10+   \n",
       "2   495      pc  2019       shooter                    Activision      M   \n",
       "3  2641     ps2  2002        sports               Electronic Arts      E   \n",
       "4   811     ps3  2013        action                    Activision      M   \n",
       "\n",
       "   CRITICS_POINTS  USER_POINTS  SalesInMillions  \n",
       "0        2.833333     0.303704         1.779257  \n",
       "1       13.200000     1.640000         0.215050  \n",
       "2        4.562500     0.006410         0.534402  \n",
       "3        4.181818     0.326923         1.383964  \n",
       "4        2.259259     0.032579         0.082671  "
      ]
     },
     "execution_count": 3,
     "metadata": {},
     "output_type": "execute_result"
    }
   ],
   "source": [
    "df_train.head()"
   ]
  },
  {
   "cell_type": "code",
   "execution_count": 4,
   "metadata": {},
   "outputs": [
    {
     "data": {
      "text/plain": [
       "SalesInMillions    0\n",
       "USER_POINTS        0\n",
       "CRITICS_POINTS     0\n",
       "RATING             0\n",
       "PUBLISHER          0\n",
       "CATEGORY           0\n",
       "YEAR               0\n",
       "CONSOLE            0\n",
       "ID                 0\n",
       "dtype: int64"
      ]
     },
     "execution_count": 4,
     "metadata": {},
     "output_type": "execute_result"
    }
   ],
   "source": [
    "df_train.isnull().sum().sort_values(ascending=False)"
   ]
  },
  {
   "cell_type": "code",
   "execution_count": 5,
   "metadata": {},
   "outputs": [
    {
     "name": "stdout",
     "output_type": "stream",
     "text": [
      "<class 'pandas.core.frame.DataFrame'>\n",
      "RangeIndex: 3506 entries, 0 to 3505\n",
      "Data columns (total 9 columns):\n",
      " #   Column           Non-Null Count  Dtype  \n",
      "---  ------           --------------  -----  \n",
      " 0   ID               3506 non-null   int64  \n",
      " 1   CONSOLE          3506 non-null   object \n",
      " 2   YEAR             3506 non-null   int64  \n",
      " 3   CATEGORY         3506 non-null   object \n",
      " 4   PUBLISHER        3506 non-null   object \n",
      " 5   RATING           3506 non-null   object \n",
      " 6   CRITICS_POINTS   3506 non-null   float64\n",
      " 7   USER_POINTS      3506 non-null   float64\n",
      " 8   SalesInMillions  3506 non-null   float64\n",
      "dtypes: float64(3), int64(2), object(4)\n",
      "memory usage: 246.6+ KB\n"
     ]
    }
   ],
   "source": [
    "df_train.info()"
   ]
  },
  {
   "cell_type": "code",
   "execution_count": 14,
   "metadata": {},
   "outputs": [
    {
     "data": {
      "text/html": [
       "<div>\n",
       "<style scoped>\n",
       "    .dataframe tbody tr th:only-of-type {\n",
       "        vertical-align: middle;\n",
       "    }\n",
       "\n",
       "    .dataframe tbody tr th {\n",
       "        vertical-align: top;\n",
       "    }\n",
       "\n",
       "    .dataframe thead th {\n",
       "        text-align: right;\n",
       "    }\n",
       "</style>\n",
       "<table border=\"1\" class=\"dataframe\">\n",
       "  <thead>\n",
       "    <tr style=\"text-align: right;\">\n",
       "      <th></th>\n",
       "      <th>YEAR</th>\n",
       "      <th>CRITICS_POINTS</th>\n",
       "      <th>USER_POINTS</th>\n",
       "      <th>SalesInMillions</th>\n",
       "    </tr>\n",
       "  </thead>\n",
       "  <tbody>\n",
       "    <tr>\n",
       "      <th>count</th>\n",
       "      <td>3506.000000</td>\n",
       "      <td>3506.000000</td>\n",
       "      <td>3506.000000</td>\n",
       "      <td>3506.000000</td>\n",
       "    </tr>\n",
       "    <tr>\n",
       "      <th>mean</th>\n",
       "      <td>2008.990302</td>\n",
       "      <td>3.790831</td>\n",
       "      <td>0.405824</td>\n",
       "      <td>2.171021</td>\n",
       "    </tr>\n",
       "    <tr>\n",
       "      <th>std</th>\n",
       "      <td>4.304252</td>\n",
       "      <td>3.141781</td>\n",
       "      <td>0.455541</td>\n",
       "      <td>2.495396</td>\n",
       "    </tr>\n",
       "    <tr>\n",
       "      <th>min</th>\n",
       "      <td>1997.000000</td>\n",
       "      <td>0.568966</td>\n",
       "      <td>0.000341</td>\n",
       "      <td>0.001524</td>\n",
       "    </tr>\n",
       "    <tr>\n",
       "      <th>25%</th>\n",
       "      <td>2006.000000</td>\n",
       "      <td>1.738095</td>\n",
       "      <td>0.065966</td>\n",
       "      <td>0.965679</td>\n",
       "    </tr>\n",
       "    <tr>\n",
       "      <th>50%</th>\n",
       "      <td>2009.000000</td>\n",
       "      <td>2.766667</td>\n",
       "      <td>0.233333</td>\n",
       "      <td>1.866140</td>\n",
       "    </tr>\n",
       "    <tr>\n",
       "      <th>75%</th>\n",
       "      <td>2012.000000</td>\n",
       "      <td>4.621528</td>\n",
       "      <td>0.598333</td>\n",
       "      <td>2.792029</td>\n",
       "    </tr>\n",
       "    <tr>\n",
       "      <th>max</th>\n",
       "      <td>2019.000000</td>\n",
       "      <td>23.250000</td>\n",
       "      <td>2.325000</td>\n",
       "      <td>84.226041</td>\n",
       "    </tr>\n",
       "  </tbody>\n",
       "</table>\n",
       "</div>"
      ],
      "text/plain": [
       "              YEAR  CRITICS_POINTS  USER_POINTS  SalesInMillions\n",
       "count  3506.000000     3506.000000  3506.000000      3506.000000\n",
       "mean   2008.990302        3.790831     0.405824         2.171021\n",
       "std       4.304252        3.141781     0.455541         2.495396\n",
       "min    1997.000000        0.568966     0.000341         0.001524\n",
       "25%    2006.000000        1.738095     0.065966         0.965679\n",
       "50%    2009.000000        2.766667     0.233333         1.866140\n",
       "75%    2012.000000        4.621528     0.598333         2.792029\n",
       "max    2019.000000       23.250000     2.325000        84.226041"
      ]
     },
     "execution_count": 14,
     "metadata": {},
     "output_type": "execute_result"
    }
   ],
   "source": [
    "df_train.describe()"
   ]
  },
  {
   "cell_type": "code",
   "execution_count": 6,
   "metadata": {},
   "outputs": [],
   "source": [
    "df_train = df_train.drop(['ID'], 1)"
   ]
  },
  {
   "cell_type": "code",
   "execution_count": 7,
   "metadata": {},
   "outputs": [
    {
     "data": {
      "text/plain": [
       "array([2008, 2012, 2019, 2002, 2013, 2004, 2014, 2016, 2010, 2006, 2007,\n",
       "       2011, 2003, 2001, 2015, 2009, 2000, 2005, 2017, 1999, 2018, 1998,\n",
       "       1997], dtype=int64)"
      ]
     },
     "execution_count": 7,
     "metadata": {},
     "output_type": "execute_result"
    }
   ],
   "source": [
    "df_train.YEAR.unique()"
   ]
  },
  {
   "cell_type": "code",
   "execution_count": 76,
   "metadata": {},
   "outputs": [],
   "source": [
    "df = df_train.copy()"
   ]
  },
  {
   "cell_type": "code",
   "execution_count": 77,
   "metadata": {},
   "outputs": [],
   "source": [
    "df['YEAR'] = df['YEAR'] - 1990"
   ]
  },
  {
   "cell_type": "code",
   "execution_count": 78,
   "metadata": {},
   "outputs": [
    {
     "data": {
      "text/plain": [
       "array([18, 22, 29, 12, 23, 14, 24, 26, 20, 16, 17, 21, 13, 11, 25, 19, 10,\n",
       "       15, 27,  9, 28,  8,  7], dtype=int64)"
      ]
     },
     "execution_count": 78,
     "metadata": {},
     "output_type": "execute_result"
    }
   ],
   "source": [
    "df['YEAR'].unique()"
   ]
  },
  {
   "cell_type": "code",
   "execution_count": 79,
   "metadata": {},
   "outputs": [
    {
     "data": {
      "text/html": [
       "<div>\n",
       "<style scoped>\n",
       "    .dataframe tbody tr th:only-of-type {\n",
       "        vertical-align: middle;\n",
       "    }\n",
       "\n",
       "    .dataframe tbody tr th {\n",
       "        vertical-align: top;\n",
       "    }\n",
       "\n",
       "    .dataframe thead th {\n",
       "        text-align: right;\n",
       "    }\n",
       "</style>\n",
       "<table border=\"1\" class=\"dataframe\">\n",
       "  <thead>\n",
       "    <tr style=\"text-align: right;\">\n",
       "      <th></th>\n",
       "      <th>CONSOLE</th>\n",
       "      <th>YEAR</th>\n",
       "      <th>CATEGORY</th>\n",
       "      <th>PUBLISHER</th>\n",
       "      <th>RATING</th>\n",
       "      <th>CRITICS_POINTS</th>\n",
       "      <th>USER_POINTS</th>\n",
       "      <th>SalesInMillions</th>\n",
       "    </tr>\n",
       "  </thead>\n",
       "  <tbody>\n",
       "    <tr>\n",
       "      <th>0</th>\n",
       "      <td>ds</td>\n",
       "      <td>18</td>\n",
       "      <td>role-playing</td>\n",
       "      <td>Nintendo</td>\n",
       "      <td>E</td>\n",
       "      <td>2.833333</td>\n",
       "      <td>0.303704</td>\n",
       "      <td>1.779257</td>\n",
       "    </tr>\n",
       "    <tr>\n",
       "      <th>1</th>\n",
       "      <td>wii</td>\n",
       "      <td>22</td>\n",
       "      <td>simulation</td>\n",
       "      <td>Konami Digital Entertainment</td>\n",
       "      <td>E10+</td>\n",
       "      <td>13.200000</td>\n",
       "      <td>1.640000</td>\n",
       "      <td>0.215050</td>\n",
       "    </tr>\n",
       "    <tr>\n",
       "      <th>2</th>\n",
       "      <td>pc</td>\n",
       "      <td>29</td>\n",
       "      <td>shooter</td>\n",
       "      <td>Activision</td>\n",
       "      <td>M</td>\n",
       "      <td>4.562500</td>\n",
       "      <td>0.006410</td>\n",
       "      <td>0.534402</td>\n",
       "    </tr>\n",
       "    <tr>\n",
       "      <th>3</th>\n",
       "      <td>ps2</td>\n",
       "      <td>12</td>\n",
       "      <td>sports</td>\n",
       "      <td>Electronic Arts</td>\n",
       "      <td>E</td>\n",
       "      <td>4.181818</td>\n",
       "      <td>0.326923</td>\n",
       "      <td>1.383964</td>\n",
       "    </tr>\n",
       "    <tr>\n",
       "      <th>4</th>\n",
       "      <td>ps3</td>\n",
       "      <td>23</td>\n",
       "      <td>action</td>\n",
       "      <td>Activision</td>\n",
       "      <td>M</td>\n",
       "      <td>2.259259</td>\n",
       "      <td>0.032579</td>\n",
       "      <td>0.082671</td>\n",
       "    </tr>\n",
       "  </tbody>\n",
       "</table>\n",
       "</div>"
      ],
      "text/plain": [
       "  CONSOLE  YEAR      CATEGORY                     PUBLISHER RATING  \\\n",
       "0      ds    18  role-playing                      Nintendo      E   \n",
       "1     wii    22    simulation  Konami Digital Entertainment   E10+   \n",
       "2      pc    29       shooter                    Activision      M   \n",
       "3     ps2    12        sports               Electronic Arts      E   \n",
       "4     ps3    23        action                    Activision      M   \n",
       "\n",
       "   CRITICS_POINTS  USER_POINTS  SalesInMillions  \n",
       "0        2.833333     0.303704         1.779257  \n",
       "1       13.200000     1.640000         0.215050  \n",
       "2        4.562500     0.006410         0.534402  \n",
       "3        4.181818     0.326923         1.383964  \n",
       "4        2.259259     0.032579         0.082671  "
      ]
     },
     "execution_count": 79,
     "metadata": {},
     "output_type": "execute_result"
    }
   ],
   "source": [
    "df.head()"
   ]
  },
  {
   "cell_type": "code",
   "execution_count": 13,
   "metadata": {},
   "outputs": [
    {
     "data": {
      "text/plain": [
       "<seaborn.axisgrid.PairGrid at 0x1c49bbc4608>"
      ]
     },
     "execution_count": 13,
     "metadata": {},
     "output_type": "execute_result"
    },
    {
     "data": {
      "image/png": "[encoded data removed]",
      "text/plain": [
       "<Figure size 720x720 with 20 Axes>"
      ]
     },
     "metadata": {
      "needs_background": "light"
     },
     "output_type": "display_data"
    }
   ],
   "source": [
    "sns.pairplot(df)"
   ]
  },
  {
   "cell_type": "code",
   "execution_count": 80,
   "metadata": {},
   "outputs": [
    {
     "data": {
      "image/png": "[encoded data removed]",
      "text/plain": [
       "<Figure size 432x288 with 1 Axes>"
      ]
     },
     "metadata": {
      "needs_background": "light"
     },
     "output_type": "display_data"
    },
    {
     "data": {
      "image/png": "[encoded data removed]",
      "text/plain": [
       "<Figure size 432x288 with 1 Axes>"
      ]
     },
     "metadata": {
      "needs_background": "light"
     },
     "output_type": "display_data"
    },
    {
     "data": {
      "image/png": "[encoded data removed]",
      "text/plain": [
       "<Figure size 432x288 with 1 Axes>"
      ]
     },
     "metadata": {
      "needs_background": "light"
     },
     "output_type": "display_data"
    }
   ],
   "source": [
    "total_pubs = len(df)\n",
    "\n",
    "for col in ['CATEGORY', 'RATING', 'CONSOLE']:\n",
    "    # count the number of observations per label and divide by total \n",
    "    # number of cars\n",
    "    temp_df = pd.Series(df[col].value_counts() / total_pubs)\n",
    "    \n",
    "    # make plot with the above percentages\n",
    "    fig = temp_df.sort_values(ascending=False).plot.bar()\n",
    "    fig.set_xlabel(col)\n",
    "    fig.set_ylabel('percentage of cars')\n",
    "    plt.show()"
   ]
  },
  {
   "cell_type": "code",
   "execution_count": 92,
   "metadata": {},
   "outputs": [],
   "source": [
    "c = pd.Series(df['PUBLISHER'].value_counts() / total_pubs)"
   ]
  },
  {
   "cell_type": "code",
   "execution_count": 93,
   "metadata": {},
   "outputs": [
    {
     "data": {
      "text/plain": [
       "{'Electronic Arts': 'Electronic Arts',\n",
       " 'Activision': 'Activision',\n",
       " 'Ubisoft': 'Ubisoft',\n",
       " 'Nintendo': 'Nintendo',\n",
       " 'Thq': 'Thq',\n",
       " 'Sony Computer Entertainment': 'Sony Computer Entertainment',\n",
       " 'Take-Two Interactive': 'Take-Two Interactive',\n",
       " 'Sega': 'Sega',\n",
       " 'Konami Digital Entertainment': 'Konami Digital Entertainment',\n",
       " 'Namco Bandai Games': 'Namco Bandai Games',\n",
       " 'Atari': 'Atari',\n",
       " 'Microsoft Game Studios': 'Microsoft Game Studios',\n",
       " 'Warner Bros. Interactive Entertainment': 'Warner Bros. Interactive Entertainment',\n",
       " 'Capcom': 'Capcom',\n",
       " 'Square Enix': 'Square Enix',\n",
       " 'Tecmo Koei': 'Tecmo Koei',\n",
       " 'Midway Games': 'Midway Games',\n",
       " 'Vivendi Games': 'Vivendi Games',\n",
       " 'Eidos Interactive': 'Eidos Interactive',\n",
       " 'Codemasters': 'Codemasters',\n",
       " 'Disney Interactive Studios': 'rare',\n",
       " 'Lucasarts': 'rare',\n",
       " '505 Games': 'rare',\n",
       " 'Acclaim Entertainment': 'rare',\n",
       " 'Deep Silver': 'rare',\n",
       " 'Nippon Ichi Software': 'rare',\n",
       " 'Rising Star Games': 'rare',\n",
       " 'Bethesda Softworks': 'rare',\n",
       " 'Atlus': 'rare',\n",
       " 'Zoo Digital Publishing': 'rare',\n",
       " 'Majesco Entertainment': 'rare',\n",
       " 'Ignition Entertainment': 'rare',\n",
       " 'Southpeak Games': 'rare',\n",
       " 'Kalypso Media': 'rare',\n",
       " 'D3Publisher': 'rare',\n",
       " 'Universal Interactive': 'rare',\n",
       " 'Tdk Mediactive': 'rare',\n",
       " 'Global Star': 'rare',\n",
       " 'Infogrames': 'rare',\n",
       " 'Empire Interactive': 'rare',\n",
       " 'Pqube': 'rare',\n",
       " 'Focus Home Interactive': 'rare',\n",
       " 'Mtv Games': 'rare',\n",
       " 'Paradox Interactive': 'rare',\n",
       " 'Crave Entertainment': 'rare',\n",
       " '3Do': 'rare',\n",
       " 'Dtp Entertainment': 'rare',\n",
       " 'Ubisoft Annecy': 'rare',\n",
       " 'Virgin Interactive': 'rare',\n",
       " 'Sci': 'rare',\n",
       " 'Squaresoft': 'rare',\n",
       " 'Bam! Entertainment': 'rare',\n",
       " 'Nordic Games': 'rare',\n",
       " 'Jowood Productions': 'rare',\n",
       " 'Unknown': 'rare',\n",
       " 'Jaleco': 'rare',\n",
       " 'Ghostlight': 'rare',\n",
       " 'Sony Computer Entertainment Europe': 'rare',\n",
       " 'Black Bean Games': 'rare',\n",
       " 'Destineer': 'rare',\n",
       " 'Play It': 'rare',\n",
       " 'Gungho': 'rare',\n",
       " 'Takara Tomy': 'rare',\n",
       " 'Metro 3D': 'rare',\n",
       " 'Popcap Games': 'rare',\n",
       " 'Idea Factory': 'rare',\n",
       " 'Mc2 Entertainment': 'rare',\n",
       " 'Game Factory': 'rare',\n",
       " 'Playlogic Game Factory': 'rare',\n",
       " 'Spike': 'rare',\n",
       " 'City Interactive': 'rare',\n",
       " 'Banpresto': 'rare',\n",
       " 'Aksys Games': 'rare',\n",
       " 'Koch Media': 'rare',\n",
       " 'Nobilis': 'rare',\n",
       " 'Microids': 'rare',\n",
       " 'Compile Heart': 'rare',\n",
       " 'Ncsoft': 'rare',\n",
       " 'Telltale Games': 'rare',\n",
       " 'Marvelous Entertainment': 'rare',\n",
       " 'Zoo Games': 'rare',\n",
       " 'Sony Online Entertainment': 'rare',\n",
       " 'Success': 'rare',\n",
       " 'Sting': 'rare',\n",
       " 'Midas Interactive Entertainment': 'rare',\n",
       " 'Enix Corporation': 'rare',\n",
       " 'Little Orbit': 'rare',\n",
       " 'Mad Catz': 'rare',\n",
       " 'Slightly Mad Studios': 'rare',\n",
       " 'Dreamcatcher Interactive': 'rare',\n",
       " 'Bigben Interactive': 'rare',\n",
       " 'Mastiff': 'rare',\n",
       " '1C Company': 'rare',\n",
       " 'Touchstone': 'rare',\n",
       " 'Arc System Works': 'rare',\n",
       " 'Trion Worlds': 'rare',\n",
       " 'Milestone S.R.L': 'rare',\n",
       " 'Novalogic': 'rare',\n",
       " 'Marvelous Interactive': 'rare',\n",
       " 'Avalon Interactive': 'rare',\n",
       " 'Hip Interactive': 'rare',\n",
       " 'Rage Software': 'rare',\n",
       " 'Gamecock': 'rare',\n",
       " 'Redoctane': 'rare',\n",
       " 'Tomy Corporation': 'rare',\n",
       " 'Insomniac Games': 'rare',\n",
       " 'Rebellion': 'rare',\n",
       " 'Bitcomposer Games': 'rare',\n",
       " 'Gathering Of Developers': 'rare',\n",
       " 'Sony Computer Entertainment America': 'rare',\n",
       " 'System 3 Arcade Software': 'rare',\n",
       " 'Valve Software': 'rare',\n",
       " 'Naturalmotion': 'rare',\n",
       " 'Milestone S.R.L.': 'rare',\n",
       " 'Genki': 'rare',\n",
       " 'Evolved Games': 'rare',\n",
       " 'Gt Interactive': 'rare',\n",
       " 'Screenlife': 'rare',\n",
       " 'Funcom': 'rare',\n",
       " 'Human Entertainment': 'rare',\n",
       " 'Pm Studios': 'rare',\n",
       " 'Team17 Software': 'rare',\n",
       " 'Xs Games': 'rare',\n",
       " 'Phantagram': 'rare',\n",
       " 'Harmonix Music Systems': 'rare',\n",
       " 'Sold Out': 'rare',\n",
       " 'Furyu': 'rare',\n",
       " 'Graffiti': 'rare',\n",
       " 'Zushi Games': 'rare',\n",
       " 'Swing! Entertainment': 'rare',\n",
       " 'Sammy Corporation': 'rare',\n",
       " 'Mastertronic': 'rare',\n",
       " 'Kool Kizz': 'rare',\n",
       " 'Acquire': 'rare',\n",
       " 'Valcon Games': 'rare',\n",
       " 'Strategy First': 'rare',\n",
       " 'Kemco': 'rare',\n",
       " 'Interplay': 'rare',\n",
       " 'Lexicon Entertainment': 'rare',\n",
       " 'Groove Games': 'rare',\n",
       " 'Thq Nordic': 'rare',\n",
       " 'Rondomedia': 'rare',\n",
       " 'Xicat Interactive': 'rare',\n",
       " 'Devolver Digital': 'rare',\n",
       " '506 Games': 'rare',\n",
       " 'Her Interactive': 'rare',\n",
       " 'O-Games': 'rare',\n",
       " 'Aq Interactive': 'rare',\n",
       " 'Havas Interactive': 'rare',\n",
       " 'Yacht Club Games': 'rare',\n",
       " 'Square Ea': 'rare',\n",
       " 'White Park Bay Software': 'rare',\n",
       " 'Flashpoint Games': 'rare',\n",
       " 'Tripwire Interactive': 'rare',\n",
       " 'Black Label Games': 'rare',\n",
       " 'Cdv Software Entertainment': 'rare',\n",
       " 'Aspyr': 'rare',\n",
       " 'Hasbro Interactive': 'rare',\n",
       " 'Ascii Entertainment': 'rare',\n",
       " 'Gaslamp Games': 'rare',\n",
       " 'Activision Blizzard': 'rare',\n",
       " 'Indie Games': 'rare',\n",
       " 'Enterbrain': 'rare',\n",
       " '5P': 'rare',\n",
       " 'Gamebridge': 'rare',\n",
       " 'Scholastic Inc.': 'rare',\n",
       " 'Tru Blu Entertainment': 'rare',\n",
       " 'Xseed Games': 'rare',\n",
       " 'Visco': 'rare',\n",
       " 'Talonsoft': 'rare',\n",
       " 'Oovee Game Studios': 'rare',\n",
       " 'Dusenberry Martin Racing': 'rare',\n",
       " 'Blue Byte': 'rare',\n",
       " 'Cloud Imperium Games Corporation': 'rare',\n",
       " 'Home Entertainment Suppliers': 'rare',\n",
       " 'Gotham Games': 'rare',\n",
       " 'Iceberg Interactive': 'rare',\n",
       " 'Sunsoft': 'rare',\n",
       " 'Encore': 'rare',\n",
       " 'Hudson Soft': 'rare',\n",
       " 'Stainless Games': 'rare',\n",
       " 'Mindscape': 'rare',\n",
       " 'Pinnacle': 'rare',\n",
       " 'System 3': 'rare',\n",
       " 'Topware Interactive': 'rare',\n",
       " 'Illusion Softworks': 'rare',\n",
       " 'Pacific Century Cyber Works': 'rare',\n",
       " 'Valve': 'rare',\n",
       " 'Aqua Plus': 'rare',\n",
       " 'Ea Games': 'rare',\n",
       " 'Rebellion Developments': 'rare',\n",
       " 'Destination Software, Inc': 'rare',\n",
       " 'En Masse Entertainment': 'rare',\n",
       " 'From Software': 'rare',\n",
       " 'Monster Games': 'rare',\n",
       " 'Revolution Software': 'rare',\n",
       " 'Snk': 'rare',\n",
       " 'Ascaron Entertainment Gmbh': 'rare',\n",
       " 'Cave': 'rare',\n",
       " 'Agetec': 'rare',\n",
       " 'Agatsuma Entertainment': 'rare',\n",
       " 'Xplosiv': 'rare',\n",
       " 'Moss': 'rare',\n",
       " 'Crimson Cow': 'rare'}"
      ]
     },
     "execution_count": 93,
     "metadata": {},
     "output_type": "execute_result"
    }
   ],
   "source": [
    "grouping_dict = {\n",
    "    k: ('rare' if k not in c[c >= 0.01426126640045636].index else k)\n",
    "    for k in c.index\n",
    "}\n",
    "\n",
    "grouping_dict"
   ]
  },
  {
   "cell_type": "code",
   "execution_count": 34,
   "metadata": {},
   "outputs": [
    {
     "data": {
      "text/plain": [
       "Electronic Arts                           497\n",
       "Activision                                289\n",
       "Ubisoft                                   250\n",
       "Nintendo                                  185\n",
       "Thq                                       173\n",
       "Sony Computer Entertainment               159\n",
       "Take-Two Interactive                      136\n",
       "Sega                                      134\n",
       "Konami Digital Entertainment              111\n",
       "Namco Bandai Games                        108\n",
       "Microsoft Game Studios                     86\n",
       "Atari                                      86\n",
       "Warner Bros. Interactive Entertainment     85\n",
       "Capcom                                     79\n",
       "Square Enix                                70\n",
       "Tecmo Koei                                 66\n",
       "Midway Games                               58\n",
       "Vivendi Games                              57\n",
       "Eidos Interactive                          55\n",
       "Codemasters                                50\n",
       "Disney Interactive Studios                 41\n",
       "Lucasarts                                  38\n",
       "505 Games                                  35\n",
       "Acclaim Entertainment                      32\n",
       "Deep Silver                                30\n",
       "Nippon Ichi Software                       29\n",
       "Rising Star Games                          29\n",
       "Bethesda Softworks                         28\n",
       "Atlus                                      15\n",
       "Zoo Digital Publishing                     14\n",
       "Majesco Entertainment                      13\n",
       "Ignition Entertainment                     13\n",
       "Southpeak Games                            13\n",
       "D3Publisher                                12\n",
       "Universal Interactive                      12\n",
       "Kalypso Media                              12\n",
       "Tdk Mediactive                             11\n",
       "Global Star                                11\n",
       "Infogrames                                 11\n",
       "Empire Interactive                         10\n",
       "Pqube                                      10\n",
       "Focus Home Interactive                     10\n",
       "Mtv Games                                   9\n",
       "Paradox Interactive                         9\n",
       "Virgin Interactive                          7\n",
       "Dtp Entertainment                           7\n",
       "Ubisoft Annecy                              7\n",
       "Sci                                         7\n",
       "3Do                                         7\n",
       "Crave Entertainment                         7\n",
       "Bam! Entertainment                          6\n",
       "Nordic Games                                6\n",
       "Squaresoft                                  6\n",
       "Jowood Productions                          5\n",
       "Unknown                                     5\n",
       "Jaleco                                      5\n",
       "Ghostlight                                  5\n",
       "Sony Computer Entertainment Europe          5\n",
       "Gungho                                      4\n",
       "Takara Tomy                                 4\n",
       "Name: PUBLISHER, dtype: int64"
      ]
     },
     "execution_count": 34,
     "metadata": {},
     "output_type": "execute_result"
    }
   ],
   "source": [
    "df.PUBLISHER.value_counts().sort_values(ascending=False).head(60)"
   ]
  },
  {
   "cell_type": "code",
   "execution_count": 94,
   "metadata": {},
   "outputs": [
    {
     "data": {
      "text/html": [
       "<div>\n",
       "<style scoped>\n",
       "    .dataframe tbody tr th:only-of-type {\n",
       "        vertical-align: middle;\n",
       "    }\n",
       "\n",
       "    .dataframe tbody tr th {\n",
       "        vertical-align: top;\n",
       "    }\n",
       "\n",
       "    .dataframe thead th {\n",
       "        text-align: right;\n",
       "    }\n",
       "</style>\n",
       "<table border=\"1\" class=\"dataframe\">\n",
       "  <thead>\n",
       "    <tr style=\"text-align: right;\">\n",
       "      <th></th>\n",
       "      <th>PUBLISHER</th>\n",
       "      <th>PUB_grouped</th>\n",
       "    </tr>\n",
       "  </thead>\n",
       "  <tbody>\n",
       "    <tr>\n",
       "      <th>0</th>\n",
       "      <td>Nintendo</td>\n",
       "      <td>Nintendo</td>\n",
       "    </tr>\n",
       "    <tr>\n",
       "      <th>1</th>\n",
       "      <td>Konami Digital Entertainment</td>\n",
       "      <td>Konami Digital Entertainment</td>\n",
       "    </tr>\n",
       "    <tr>\n",
       "      <th>2</th>\n",
       "      <td>Activision</td>\n",
       "      <td>Activision</td>\n",
       "    </tr>\n",
       "    <tr>\n",
       "      <th>3</th>\n",
       "      <td>Electronic Arts</td>\n",
       "      <td>Electronic Arts</td>\n",
       "    </tr>\n",
       "    <tr>\n",
       "      <th>4</th>\n",
       "      <td>Activision</td>\n",
       "      <td>Activision</td>\n",
       "    </tr>\n",
       "    <tr>\n",
       "      <th>5</th>\n",
       "      <td>Sony Computer Entertainment</td>\n",
       "      <td>Sony Computer Entertainment</td>\n",
       "    </tr>\n",
       "    <tr>\n",
       "      <th>6</th>\n",
       "      <td>Idea Factory</td>\n",
       "      <td>rare</td>\n",
       "    </tr>\n",
       "    <tr>\n",
       "      <th>7</th>\n",
       "      <td>Atari</td>\n",
       "      <td>Atari</td>\n",
       "    </tr>\n",
       "    <tr>\n",
       "      <th>8</th>\n",
       "      <td>Empire Interactive</td>\n",
       "      <td>rare</td>\n",
       "    </tr>\n",
       "    <tr>\n",
       "      <th>9</th>\n",
       "      <td>Sony Computer Entertainment</td>\n",
       "      <td>Sony Computer Entertainment</td>\n",
       "    </tr>\n",
       "  </tbody>\n",
       "</table>\n",
       "</div>"
      ],
      "text/plain": [
       "                      PUBLISHER                   PUB_grouped\n",
       "0                      Nintendo                      Nintendo\n",
       "1  Konami Digital Entertainment  Konami Digital Entertainment\n",
       "2                    Activision                    Activision\n",
       "3               Electronic Arts               Electronic Arts\n",
       "4                    Activision                    Activision\n",
       "5   Sony Computer Entertainment   Sony Computer Entertainment\n",
       "6                  Idea Factory                          rare\n",
       "7                         Atari                         Atari\n",
       "8            Empire Interactive                          rare\n",
       "9   Sony Computer Entertainment   Sony Computer Entertainment"
      ]
     },
     "execution_count": 94,
     "metadata": {},
     "output_type": "execute_result"
    }
   ],
   "source": [
    "df['PUB_grouped'] = df['PUBLISHER'].map(grouping_dict)\n",
    "df[['PUBLISHER', 'PUB_grouped']].head(10)"
   ]
  },
  {
   "cell_type": "code",
   "execution_count": 85,
   "metadata": {},
   "outputs": [],
   "source": [
    "cols_to_use = ['RATING', 'CONSOLE', 'CATEGORY']"
   ]
  },
  {
   "cell_type": "code",
   "execution_count": 67,
   "metadata": {},
   "outputs": [
    {
     "data": {
      "text/html": [
       "<div>\n",
       "<style scoped>\n",
       "    .dataframe tbody tr th:only-of-type {\n",
       "        vertical-align: middle;\n",
       "    }\n",
       "\n",
       "    .dataframe tbody tr th {\n",
       "        vertical-align: top;\n",
       "    }\n",
       "\n",
       "    .dataframe thead th {\n",
       "        text-align: right;\n",
       "    }\n",
       "</style>\n",
       "<table border=\"1\" class=\"dataframe\">\n",
       "  <thead>\n",
       "    <tr style=\"text-align: right;\">\n",
       "      <th></th>\n",
       "      <th>CONSOLE</th>\n",
       "      <th>YEAR</th>\n",
       "      <th>CATEGORY</th>\n",
       "      <th>PUBLISHER</th>\n",
       "      <th>RATING</th>\n",
       "      <th>CRITICS_POINTS</th>\n",
       "      <th>USER_POINTS</th>\n",
       "      <th>SalesInMillions</th>\n",
       "      <th>PUB_grouped</th>\n",
       "    </tr>\n",
       "  </thead>\n",
       "  <tbody>\n",
       "    <tr>\n",
       "      <th>0</th>\n",
       "      <td>ds</td>\n",
       "      <td>18</td>\n",
       "      <td>role-playing</td>\n",
       "      <td>Nintendo</td>\n",
       "      <td>E</td>\n",
       "      <td>2.833333</td>\n",
       "      <td>0.303704</td>\n",
       "      <td>1.779257</td>\n",
       "      <td>Nintendo</td>\n",
       "    </tr>\n",
       "    <tr>\n",
       "      <th>1</th>\n",
       "      <td>wii</td>\n",
       "      <td>22</td>\n",
       "      <td>simulation</td>\n",
       "      <td>Konami Digital Entertainment</td>\n",
       "      <td>E10+</td>\n",
       "      <td>13.200000</td>\n",
       "      <td>1.640000</td>\n",
       "      <td>0.215050</td>\n",
       "      <td>Konami Digital Entertainment</td>\n",
       "    </tr>\n",
       "    <tr>\n",
       "      <th>2</th>\n",
       "      <td>pc</td>\n",
       "      <td>29</td>\n",
       "      <td>shooter</td>\n",
       "      <td>Activision</td>\n",
       "      <td>M</td>\n",
       "      <td>4.562500</td>\n",
       "      <td>0.006410</td>\n",
       "      <td>0.534402</td>\n",
       "      <td>Activision</td>\n",
       "    </tr>\n",
       "    <tr>\n",
       "      <th>3</th>\n",
       "      <td>ps2</td>\n",
       "      <td>12</td>\n",
       "      <td>sports</td>\n",
       "      <td>Electronic Arts</td>\n",
       "      <td>E</td>\n",
       "      <td>4.181818</td>\n",
       "      <td>0.326923</td>\n",
       "      <td>1.383964</td>\n",
       "      <td>Electronic Arts</td>\n",
       "    </tr>\n",
       "    <tr>\n",
       "      <th>4</th>\n",
       "      <td>ps3</td>\n",
       "      <td>23</td>\n",
       "      <td>action</td>\n",
       "      <td>Activision</td>\n",
       "      <td>M</td>\n",
       "      <td>2.259259</td>\n",
       "      <td>0.032579</td>\n",
       "      <td>0.082671</td>\n",
       "      <td>Activision</td>\n",
       "    </tr>\n",
       "  </tbody>\n",
       "</table>\n",
       "</div>"
      ],
      "text/plain": [
       "  CONSOLE  YEAR      CATEGORY                     PUBLISHER RATING  \\\n",
       "0      ds    18  role-playing                      Nintendo      E   \n",
       "1     wii    22    simulation  Konami Digital Entertainment   E10+   \n",
       "2      pc    29       shooter                    Activision      M   \n",
       "3     ps2    12        sports               Electronic Arts      E   \n",
       "4     ps3    23        action                    Activision      M   \n",
       "\n",
       "   CRITICS_POINTS  USER_POINTS  SalesInMillions                   PUB_grouped  \n",
       "0        2.833333     0.303704         1.779257                      Nintendo  \n",
       "1       13.200000     1.640000         0.215050  Konami Digital Entertainment  \n",
       "2        4.562500     0.006410         0.534402                    Activision  \n",
       "3        4.181818     0.326923         1.383964               Electronic Arts  \n",
       "4        2.259259     0.032579         0.082671                    Activision  "
      ]
     },
     "execution_count": 67,
     "metadata": {},
     "output_type": "execute_result"
    }
   ],
   "source": [
    "df.head()"
   ]
  },
  {
   "cell_type": "code",
   "execution_count": 53,
   "metadata": {},
   "outputs": [
    {
     "data": {
      "text/plain": [
       "3506"
      ]
     },
     "execution_count": 53,
     "metadata": {},
     "output_type": "execute_result"
    }
   ],
   "source": [
    "len(df)"
   ]
  },
  {
   "cell_type": "code",
   "execution_count": 71,
   "metadata": {},
   "outputs": [
    {
     "data": {
      "text/plain": [
       "T       1182\n",
       "E       1061\n",
       "M        749\n",
       "E10+     511\n",
       "RP         2\n",
       "K-A        1\n",
       "Name: RATING, dtype: int64"
      ]
     },
     "execution_count": 71,
     "metadata": {},
     "output_type": "execute_result"
    }
   ],
   "source": [
    "df['RATING'].value_counts()"
   ]
  },
  {
   "cell_type": "code",
   "execution_count": 90,
   "metadata": {},
   "outputs": [
    {
     "data": {
      "text/html": [
       "<div>\n",
       "<style scoped>\n",
       "    .dataframe tbody tr th:only-of-type {\n",
       "        vertical-align: middle;\n",
       "    }\n",
       "\n",
       "    .dataframe tbody tr th {\n",
       "        vertical-align: top;\n",
       "    }\n",
       "\n",
       "    .dataframe thead th {\n",
       "        text-align: right;\n",
       "    }\n",
       "</style>\n",
       "<table border=\"1\" class=\"dataframe\">\n",
       "  <thead>\n",
       "    <tr style=\"text-align: right;\">\n",
       "      <th></th>\n",
       "      <th>CONSOLE</th>\n",
       "      <th>YEAR</th>\n",
       "      <th>CATEGORY</th>\n",
       "      <th>PUBLISHER</th>\n",
       "      <th>RATING</th>\n",
       "      <th>CRITICS_POINTS</th>\n",
       "      <th>USER_POINTS</th>\n",
       "      <th>SalesInMillions</th>\n",
       "      <th>RATING_grouped</th>\n",
       "      <th>CONSOLE_grouped</th>\n",
       "      <th>CATEGORY_grouped</th>\n",
       "    </tr>\n",
       "  </thead>\n",
       "  <tbody>\n",
       "    <tr>\n",
       "      <th>0</th>\n",
       "      <td>ds</td>\n",
       "      <td>18</td>\n",
       "      <td>role-playing</td>\n",
       "      <td>Nintendo</td>\n",
       "      <td>E</td>\n",
       "      <td>2.833333</td>\n",
       "      <td>0.303704</td>\n",
       "      <td>1.779257</td>\n",
       "      <td>E</td>\n",
       "      <td>ds</td>\n",
       "      <td>role-playing</td>\n",
       "    </tr>\n",
       "    <tr>\n",
       "      <th>1</th>\n",
       "      <td>wii</td>\n",
       "      <td>22</td>\n",
       "      <td>simulation</td>\n",
       "      <td>Konami Digital Entertainment</td>\n",
       "      <td>E10+</td>\n",
       "      <td>13.200000</td>\n",
       "      <td>1.640000</td>\n",
       "      <td>0.215050</td>\n",
       "      <td>E10+</td>\n",
       "      <td>wii</td>\n",
       "      <td>simulation</td>\n",
       "    </tr>\n",
       "    <tr>\n",
       "      <th>2</th>\n",
       "      <td>pc</td>\n",
       "      <td>29</td>\n",
       "      <td>shooter</td>\n",
       "      <td>Activision</td>\n",
       "      <td>M</td>\n",
       "      <td>4.562500</td>\n",
       "      <td>0.006410</td>\n",
       "      <td>0.534402</td>\n",
       "      <td>M</td>\n",
       "      <td>pc</td>\n",
       "      <td>shooter</td>\n",
       "    </tr>\n",
       "    <tr>\n",
       "      <th>3</th>\n",
       "      <td>ps2</td>\n",
       "      <td>12</td>\n",
       "      <td>sports</td>\n",
       "      <td>Electronic Arts</td>\n",
       "      <td>E</td>\n",
       "      <td>4.181818</td>\n",
       "      <td>0.326923</td>\n",
       "      <td>1.383964</td>\n",
       "      <td>E</td>\n",
       "      <td>ps2</td>\n",
       "      <td>sports</td>\n",
       "    </tr>\n",
       "    <tr>\n",
       "      <th>4</th>\n",
       "      <td>ps3</td>\n",
       "      <td>23</td>\n",
       "      <td>action</td>\n",
       "      <td>Activision</td>\n",
       "      <td>M</td>\n",
       "      <td>2.259259</td>\n",
       "      <td>0.032579</td>\n",
       "      <td>0.082671</td>\n",
       "      <td>M</td>\n",
       "      <td>ps3</td>\n",
       "      <td>action</td>\n",
       "    </tr>\n",
       "  </tbody>\n",
       "</table>\n",
       "</div>"
      ],
      "text/plain": [
       "  CONSOLE  YEAR      CATEGORY                     PUBLISHER RATING  \\\n",
       "0      ds    18  role-playing                      Nintendo      E   \n",
       "1     wii    22    simulation  Konami Digital Entertainment   E10+   \n",
       "2      pc    29       shooter                    Activision      M   \n",
       "3     ps2    12        sports               Electronic Arts      E   \n",
       "4     ps3    23        action                    Activision      M   \n",
       "\n",
       "   CRITICS_POINTS  USER_POINTS  SalesInMillions RATING_grouped  \\\n",
       "0        2.833333     0.303704         1.779257              E   \n",
       "1       13.200000     1.640000         0.215050           E10+   \n",
       "2        4.562500     0.006410         0.534402              M   \n",
       "3        4.181818     0.326923         1.383964              E   \n",
       "4        2.259259     0.032579         0.082671              M   \n",
       "\n",
       "  CONSOLE_grouped CATEGORY_grouped  \n",
       "0              ds     role-playing  \n",
       "1             wii       simulation  \n",
       "2              pc          shooter  \n",
       "3             ps2           sports  \n",
       "4             ps3           action  "
      ]
     },
     "execution_count": 90,
     "metadata": {},
     "output_type": "execute_result"
    }
   ],
   "source": [
    "for col in cols_to_use:\n",
    "    \n",
    "    # calculate the % of cars in each category\n",
    "    temp_df1 = pd.Series(df[col].value_counts() / len(df))\n",
    "\n",
    "    # create a dictionary to replace the rare labels with the\n",
    "    # string 'rare'\n",
    "    grouping_dict1 = {\n",
    "        k: ('rare' if k not in temp_df1[temp_df1 >= 0.02852253280091272].index else k)\n",
    "        for k in temp_df1.index\n",
    "    }\n",
    "    \n",
    "    # replace the rare labels\n",
    "    df[col + '_grouped'] = df[col].map(grouping_dict1)\n",
    "\n",
    "df.head()"
   ]
  },
  {
   "cell_type": "code",
   "execution_count": 97,
   "metadata": {},
   "outputs": [],
   "source": [
    "df = df.drop(['CATEGORY', 'PUBLISHER', 'CONSOLE', 'RATING'], 1)"
   ]
  },
  {
   "cell_type": "code",
   "execution_count": 98,
   "metadata": {},
   "outputs": [
    {
     "data": {
      "text/html": [
       "<div>\n",
       "<style scoped>\n",
       "    .dataframe tbody tr th:only-of-type {\n",
       "        vertical-align: middle;\n",
       "    }\n",
       "\n",
       "    .dataframe tbody tr th {\n",
       "        vertical-align: top;\n",
       "    }\n",
       "\n",
       "    .dataframe thead th {\n",
       "        text-align: right;\n",
       "    }\n",
       "</style>\n",
       "<table border=\"1\" class=\"dataframe\">\n",
       "  <thead>\n",
       "    <tr style=\"text-align: right;\">\n",
       "      <th></th>\n",
       "      <th>YEAR</th>\n",
       "      <th>CRITICS_POINTS</th>\n",
       "      <th>USER_POINTS</th>\n",
       "      <th>SalesInMillions</th>\n",
       "      <th>RATING_grouped</th>\n",
       "      <th>CONSOLE_grouped</th>\n",
       "      <th>CATEGORY_grouped</th>\n",
       "      <th>PUB_grouped</th>\n",
       "    </tr>\n",
       "  </thead>\n",
       "  <tbody>\n",
       "    <tr>\n",
       "      <th>0</th>\n",
       "      <td>18</td>\n",
       "      <td>2.833333</td>\n",
       "      <td>0.303704</td>\n",
       "      <td>1.779257</td>\n",
       "      <td>E</td>\n",
       "      <td>ds</td>\n",
       "      <td>role-playing</td>\n",
       "      <td>Nintendo</td>\n",
       "    </tr>\n",
       "    <tr>\n",
       "      <th>1</th>\n",
       "      <td>22</td>\n",
       "      <td>13.200000</td>\n",
       "      <td>1.640000</td>\n",
       "      <td>0.215050</td>\n",
       "      <td>E10+</td>\n",
       "      <td>wii</td>\n",
       "      <td>simulation</td>\n",
       "      <td>Konami Digital Entertainment</td>\n",
       "    </tr>\n",
       "    <tr>\n",
       "      <th>2</th>\n",
       "      <td>29</td>\n",
       "      <td>4.562500</td>\n",
       "      <td>0.006410</td>\n",
       "      <td>0.534402</td>\n",
       "      <td>M</td>\n",
       "      <td>pc</td>\n",
       "      <td>shooter</td>\n",
       "      <td>Activision</td>\n",
       "    </tr>\n",
       "    <tr>\n",
       "      <th>3</th>\n",
       "      <td>12</td>\n",
       "      <td>4.181818</td>\n",
       "      <td>0.326923</td>\n",
       "      <td>1.383964</td>\n",
       "      <td>E</td>\n",
       "      <td>ps2</td>\n",
       "      <td>sports</td>\n",
       "      <td>Electronic Arts</td>\n",
       "    </tr>\n",
       "    <tr>\n",
       "      <th>4</th>\n",
       "      <td>23</td>\n",
       "      <td>2.259259</td>\n",
       "      <td>0.032579</td>\n",
       "      <td>0.082671</td>\n",
       "      <td>M</td>\n",
       "      <td>ps3</td>\n",
       "      <td>action</td>\n",
       "      <td>Activision</td>\n",
       "    </tr>\n",
       "  </tbody>\n",
       "</table>\n",
       "</div>"
      ],
      "text/plain": [
       "   YEAR  CRITICS_POINTS  USER_POINTS  SalesInMillions RATING_grouped  \\\n",
       "0    18        2.833333     0.303704         1.779257              E   \n",
       "1    22       13.200000     1.640000         0.215050           E10+   \n",
       "2    29        4.562500     0.006410         0.534402              M   \n",
       "3    12        4.181818     0.326923         1.383964              E   \n",
       "4    23        2.259259     0.032579         0.082671              M   \n",
       "\n",
       "  CONSOLE_grouped CATEGORY_grouped                   PUB_grouped  \n",
       "0              ds     role-playing                      Nintendo  \n",
       "1             wii       simulation  Konami Digital Entertainment  \n",
       "2              pc          shooter                    Activision  \n",
       "3             ps2           sports               Electronic Arts  \n",
       "4             ps3           action                    Activision  "
      ]
     },
     "execution_count": 98,
     "metadata": {},
     "output_type": "execute_result"
    }
   ],
   "source": [
    "df.head()"
   ]
  },
  {
   "cell_type": "code",
   "execution_count": 100,
   "metadata": {},
   "outputs": [],
   "source": [
    "from sklearn import preprocessing"
   ]
  },
  {
   "cell_type": "code",
   "execution_count": 102,
   "metadata": {},
   "outputs": [
    {
     "data": {
      "text/plain": [
       "LabelEncoder()"
      ]
     },
     "execution_count": 102,
     "metadata": {},
     "output_type": "execute_result"
    }
   ],
   "source": [
    "le = preprocessing.LabelEncoder()\n",
    "le.fit(df['RATING_grouped'])\n",
    "df['RATING'] = le.transform(df['RATING_grouped'])"
   ]
  },
  {
   "cell_type": "code",
   "execution_count": 107,
   "metadata": {},
   "outputs": [],
   "source": [
    "df1 = pd.get_dummies(df,columns = [ 'CONSOLE_grouped', 'CATEGORY_grouped', 'PUB_grouped'], drop_first=True)"
   ]
  },
  {
   "cell_type": "code",
   "execution_count": 114,
   "metadata": {},
   "outputs": [],
   "source": [
    "df1 = df1.drop(['RATING_grouped'], 1)"
   ]
  },
  {
   "cell_type": "code",
   "execution_count": 109,
   "metadata": {},
   "outputs": [
    {
     "data": {
      "text/plain": [
       "(3506, 48)"
      ]
     },
     "execution_count": 109,
     "metadata": {},
     "output_type": "execute_result"
    }
   ],
   "source": [
    "df1.shape"
   ]
  },
  {
   "cell_type": "code",
   "execution_count": 115,
   "metadata": {},
   "outputs": [],
   "source": [
    "X = df1.drop(['SalesInMillions'], 1)\n",
    "Y = df1['SalesInMillions']"
   ]
  },
  {
   "cell_type": "code",
   "execution_count": 118,
   "metadata": {},
   "outputs": [
    {
     "data": {
      "text/html": [
       "<div>\n",
       "<style scoped>\n",
       "    .dataframe tbody tr th:only-of-type {\n",
       "        vertical-align: middle;\n",
       "    }\n",
       "\n",
       "    .dataframe tbody tr th {\n",
       "        vertical-align: top;\n",
       "    }\n",
       "\n",
       "    .dataframe thead th {\n",
       "        text-align: right;\n",
       "    }\n",
       "</style>\n",
       "<table border=\"1\" class=\"dataframe\">\n",
       "  <thead>\n",
       "    <tr style=\"text-align: right;\">\n",
       "      <th></th>\n",
       "      <th>YEAR</th>\n",
       "      <th>CRITICS_POINTS</th>\n",
       "      <th>USER_POINTS</th>\n",
       "      <th>RATING</th>\n",
       "      <th>CONSOLE_grouped_gba</th>\n",
       "      <th>CONSOLE_grouped_gc</th>\n",
       "      <th>CONSOLE_grouped_pc</th>\n",
       "      <th>CONSOLE_grouped_ps2</th>\n",
       "      <th>CONSOLE_grouped_ps3</th>\n",
       "      <th>CONSOLE_grouped_ps4</th>\n",
       "      <th>...</th>\n",
       "      <th>PUB_grouped_Sega</th>\n",
       "      <th>PUB_grouped_Sony Computer Entertainment</th>\n",
       "      <th>PUB_grouped_Square Enix</th>\n",
       "      <th>PUB_grouped_Take-Two Interactive</th>\n",
       "      <th>PUB_grouped_Tecmo Koei</th>\n",
       "      <th>PUB_grouped_Thq</th>\n",
       "      <th>PUB_grouped_Ubisoft</th>\n",
       "      <th>PUB_grouped_Vivendi Games</th>\n",
       "      <th>PUB_grouped_Warner Bros. Interactive Entertainment</th>\n",
       "      <th>PUB_grouped_rare</th>\n",
       "    </tr>\n",
       "  </thead>\n",
       "  <tbody>\n",
       "    <tr>\n",
       "      <th>0</th>\n",
       "      <td>18</td>\n",
       "      <td>2.833333</td>\n",
       "      <td>0.303704</td>\n",
       "      <td>0</td>\n",
       "      <td>0</td>\n",
       "      <td>0</td>\n",
       "      <td>0</td>\n",
       "      <td>0</td>\n",
       "      <td>0</td>\n",
       "      <td>0</td>\n",
       "      <td>...</td>\n",
       "      <td>0</td>\n",
       "      <td>0</td>\n",
       "      <td>0</td>\n",
       "      <td>0</td>\n",
       "      <td>0</td>\n",
       "      <td>0</td>\n",
       "      <td>0</td>\n",
       "      <td>0</td>\n",
       "      <td>0</td>\n",
       "      <td>0</td>\n",
       "    </tr>\n",
       "    <tr>\n",
       "      <th>1</th>\n",
       "      <td>22</td>\n",
       "      <td>13.200000</td>\n",
       "      <td>1.640000</td>\n",
       "      <td>1</td>\n",
       "      <td>0</td>\n",
       "      <td>0</td>\n",
       "      <td>0</td>\n",
       "      <td>0</td>\n",
       "      <td>0</td>\n",
       "      <td>0</td>\n",
       "      <td>...</td>\n",
       "      <td>0</td>\n",
       "      <td>0</td>\n",
       "      <td>0</td>\n",
       "      <td>0</td>\n",
       "      <td>0</td>\n",
       "      <td>0</td>\n",
       "      <td>0</td>\n",
       "      <td>0</td>\n",
       "      <td>0</td>\n",
       "      <td>0</td>\n",
       "    </tr>\n",
       "    <tr>\n",
       "      <th>2</th>\n",
       "      <td>29</td>\n",
       "      <td>4.562500</td>\n",
       "      <td>0.006410</td>\n",
       "      <td>2</td>\n",
       "      <td>0</td>\n",
       "      <td>0</td>\n",
       "      <td>1</td>\n",
       "      <td>0</td>\n",
       "      <td>0</td>\n",
       "      <td>0</td>\n",
       "      <td>...</td>\n",
       "      <td>0</td>\n",
       "      <td>0</td>\n",
       "      <td>0</td>\n",
       "      <td>0</td>\n",
       "      <td>0</td>\n",
       "      <td>0</td>\n",
       "      <td>0</td>\n",
       "      <td>0</td>\n",
       "      <td>0</td>\n",
       "      <td>0</td>\n",
       "    </tr>\n",
       "    <tr>\n",
       "      <th>3</th>\n",
       "      <td>12</td>\n",
       "      <td>4.181818</td>\n",
       "      <td>0.326923</td>\n",
       "      <td>0</td>\n",
       "      <td>0</td>\n",
       "      <td>0</td>\n",
       "      <td>0</td>\n",
       "      <td>1</td>\n",
       "      <td>0</td>\n",
       "      <td>0</td>\n",
       "      <td>...</td>\n",
       "      <td>0</td>\n",
       "      <td>0</td>\n",
       "      <td>0</td>\n",
       "      <td>0</td>\n",
       "      <td>0</td>\n",
       "      <td>0</td>\n",
       "      <td>0</td>\n",
       "      <td>0</td>\n",
       "      <td>0</td>\n",
       "      <td>0</td>\n",
       "    </tr>\n",
       "    <tr>\n",
       "      <th>4</th>\n",
       "      <td>23</td>\n",
       "      <td>2.259259</td>\n",
       "      <td>0.032579</td>\n",
       "      <td>2</td>\n",
       "      <td>0</td>\n",
       "      <td>0</td>\n",
       "      <td>0</td>\n",
       "      <td>0</td>\n",
       "      <td>1</td>\n",
       "      <td>0</td>\n",
       "      <td>...</td>\n",
       "      <td>0</td>\n",
       "      <td>0</td>\n",
       "      <td>0</td>\n",
       "      <td>0</td>\n",
       "      <td>0</td>\n",
       "      <td>0</td>\n",
       "      <td>0</td>\n",
       "      <td>0</td>\n",
       "      <td>0</td>\n",
       "      <td>0</td>\n",
       "    </tr>\n",
       "  </tbody>\n",
       "</table>\n",
       "<p>5 rows × 46 columns</p>\n",
       "</div>"
      ],
      "text/plain": [
       "   YEAR  CRITICS_POINTS  USER_POINTS  RATING  CONSOLE_grouped_gba  \\\n",
       "0    18        2.833333     0.303704       0                    0   \n",
       "1    22       13.200000     1.640000       1                    0   \n",
       "2    29        4.562500     0.006410       2                    0   \n",
       "3    12        4.181818     0.326923       0                    0   \n",
       "4    23        2.259259     0.032579       2                    0   \n",
       "\n",
       "   CONSOLE_grouped_gc  CONSOLE_grouped_pc  CONSOLE_grouped_ps2  \\\n",
       "0                   0                   0                    0   \n",
       "1                   0                   0                    0   \n",
       "2                   0                   1                    0   \n",
       "3                   0                   0                    1   \n",
       "4                   0                   0                    0   \n",
       "\n",
       "   CONSOLE_grouped_ps3  CONSOLE_grouped_ps4  ...  PUB_grouped_Sega  \\\n",
       "0                    0                    0  ...                 0   \n",
       "1                    0                    0  ...                 0   \n",
       "2                    0                    0  ...                 0   \n",
       "3                    0                    0  ...                 0   \n",
       "4                    1                    0  ...                 0   \n",
       "\n",
       "   PUB_grouped_Sony Computer Entertainment  PUB_grouped_Square Enix  \\\n",
       "0                                        0                        0   \n",
       "1                                        0                        0   \n",
       "2                                        0                        0   \n",
       "3                                        0                        0   \n",
       "4                                        0                        0   \n",
       "\n",
       "   PUB_grouped_Take-Two Interactive  PUB_grouped_Tecmo Koei  PUB_grouped_Thq  \\\n",
       "0                                 0                       0                0   \n",
       "1                                 0                       0                0   \n",
       "2                                 0                       0                0   \n",
       "3                                 0                       0                0   \n",
       "4                                 0                       0                0   \n",
       "\n",
       "   PUB_grouped_Ubisoft  PUB_grouped_Vivendi Games  \\\n",
       "0                    0                          0   \n",
       "1                    0                          0   \n",
       "2                    0                          0   \n",
       "3                    0                          0   \n",
       "4                    0                          0   \n",
       "\n",
       "   PUB_grouped_Warner Bros. Interactive Entertainment  PUB_grouped_rare  \n",
       "0                                                  0                  0  \n",
       "1                                                  0                  0  \n",
       "2                                                  0                  0  \n",
       "3                                                  0                  0  \n",
       "4                                                  0                  0  \n",
       "\n",
       "[5 rows x 46 columns]"
      ]
     },
     "execution_count": 118,
     "metadata": {},
     "output_type": "execute_result"
    }
   ],
   "source": [
    "X.head()"
   ]
  },
  {
   "cell_type": "code",
   "execution_count": 119,
   "metadata": {},
   "outputs": [
    {
     "data": {
      "text/plain": [
       "0    1.779257\n",
       "1    0.215050\n",
       "2    0.534402\n",
       "3    1.383964\n",
       "4    0.082671\n",
       "Name: SalesInMillions, dtype: float64"
      ]
     },
     "execution_count": 119,
     "metadata": {},
     "output_type": "execute_result"
    }
   ],
   "source": [
    "Y.head()"
   ]
  },
  {
   "cell_type": "code",
   "execution_count": 120,
   "metadata": {},
   "outputs": [
    {
     "data": {
      "text/plain": [
       "ExtraTreesRegressor(bootstrap=False, ccp_alpha=0.0, criterion='mse',\n",
       "                    max_depth=None, max_features='auto', max_leaf_nodes=None,\n",
       "                    max_samples=None, min_impurity_decrease=0.0,\n",
       "                    min_impurity_split=None, min_samples_leaf=1,\n",
       "                    min_samples_split=2, min_weight_fraction_leaf=0.0,\n",
       "                    n_estimators=100, n_jobs=None, oob_score=False,\n",
       "                    random_state=None, verbose=0, warm_start=False)"
      ]
     },
     "execution_count": 120,
     "metadata": {},
     "output_type": "execute_result"
    }
   ],
   "source": [
    "from sklearn.ensemble import ExtraTreesRegressor\n",
    "import matplotlib.pyplot as plt\n",
    "model = ExtraTreesRegressor()\n",
    "model.fit(X,Y)"
   ]
  },
  {
   "cell_type": "code",
   "execution_count": 121,
   "metadata": {},
   "outputs": [
    {
     "name": "stdout",
     "output_type": "stream",
     "text": [
      "[0.09541521 0.09098594 0.25293708 0.03791053 0.00415226 0.00503273\n",
      " 0.01539662 0.00874591 0.00758406 0.00466868 0.00343363 0.01861218\n",
      " 0.05217066 0.00267783 0.01100755 0.00368841 0.00618829 0.00874769\n",
      " 0.0123091  0.05142213 0.00111547 0.00783925 0.00766922 0.00620433\n",
      " 0.1609621  0.00413106 0.00176711 0.00699312 0.00105344 0.00135396\n",
      " 0.00830085 0.00318974 0.00793888 0.00116916 0.00252133 0.03831434\n",
      " 0.00339886 0.0061843  0.00158778 0.0122545  0.00104637 0.00196681\n",
      " 0.00708633 0.00176972 0.00147305 0.00962245]\n"
     ]
    }
   ],
   "source": [
    "print(model.feature_importances_)"
   ]
  },
  {
   "cell_type": "code",
   "execution_count": 122,
   "metadata": {},
   "outputs": [
    {
     "data": {
      "image/png": "[encoded data removed]",
      "text/plain": [
       "<Figure size 432x288 with 1 Axes>"
      ]
     },
     "metadata": {
      "needs_background": "light"
     },
     "output_type": "display_data"
    }
   ],
   "source": [
    "feat_importances = pd.Series(model.feature_importances_, index=X.columns)\n",
    "feat_importances.nlargest(5).plot(kind='barh')\n",
    "plt.show()"
   ]
  },
  {
   "cell_type": "code",
   "execution_count": 123,
   "metadata": {},
   "outputs": [],
   "source": [
    "df_test = pd.read_csv(r'C:\\Users\\asus\\Desktop\\Kaggle datset\\Books dataset\\Test.csv')"
   ]
  },
  {
   "cell_type": "code",
   "execution_count": 124,
   "metadata": {},
   "outputs": [
    {
     "data": {
      "text/html": [
       "<div>\n",
       "<style scoped>\n",
       "    .dataframe tbody tr th:only-of-type {\n",
       "        vertical-align: middle;\n",
       "    }\n",
       "\n",
       "    .dataframe tbody tr th {\n",
       "        vertical-align: top;\n",
       "    }\n",
       "\n",
       "    .dataframe thead th {\n",
       "        text-align: right;\n",
       "    }\n",
       "</style>\n",
       "<table border=\"1\" class=\"dataframe\">\n",
       "  <thead>\n",
       "    <tr style=\"text-align: right;\">\n",
       "      <th></th>\n",
       "      <th>ID</th>\n",
       "      <th>CONSOLE</th>\n",
       "      <th>YEAR</th>\n",
       "      <th>CATEGORY</th>\n",
       "      <th>PUBLISHER</th>\n",
       "      <th>RATING</th>\n",
       "      <th>CRITICS_POINTS</th>\n",
       "      <th>USER_POINTS</th>\n",
       "    </tr>\n",
       "  </thead>\n",
       "  <tbody>\n",
       "    <tr>\n",
       "      <th>0</th>\n",
       "      <td>4310</td>\n",
       "      <td>ps2</td>\n",
       "      <td>2008</td>\n",
       "      <td>action</td>\n",
       "      <td>Tecmo Koei</td>\n",
       "      <td>T</td>\n",
       "      <td>3.928571</td>\n",
       "      <td>0.482353</td>\n",
       "    </tr>\n",
       "    <tr>\n",
       "      <th>1</th>\n",
       "      <td>4011</td>\n",
       "      <td>psp</td>\n",
       "      <td>2007</td>\n",
       "      <td>strategy</td>\n",
       "      <td>Atari</td>\n",
       "      <td>E10+</td>\n",
       "      <td>5.538462</td>\n",
       "      <td>0.071795</td>\n",
       "    </tr>\n",
       "    <tr>\n",
       "      <th>2</th>\n",
       "      <td>2185</td>\n",
       "      <td>ps2</td>\n",
       "      <td>2004</td>\n",
       "      <td>shooter</td>\n",
       "      <td>Electronic Arts</td>\n",
       "      <td>T</td>\n",
       "      <td>3.034483</td>\n",
       "      <td>0.062044</td>\n",
       "    </tr>\n",
       "    <tr>\n",
       "      <th>3</th>\n",
       "      <td>1644</td>\n",
       "      <td>x</td>\n",
       "      <td>2006</td>\n",
       "      <td>action</td>\n",
       "      <td>Electronic Arts</td>\n",
       "      <td>E</td>\n",
       "      <td>2.913043</td>\n",
       "      <td>0.880000</td>\n",
       "    </tr>\n",
       "    <tr>\n",
       "      <th>4</th>\n",
       "      <td>188</td>\n",
       "      <td>3ds</td>\n",
       "      <td>2011</td>\n",
       "      <td>racing</td>\n",
       "      <td>Ubisoft</td>\n",
       "      <td>E10+</td>\n",
       "      <td>1.162162</td>\n",
       "      <td>0.183333</td>\n",
       "    </tr>\n",
       "  </tbody>\n",
       "</table>\n",
       "</div>"
      ],
      "text/plain": [
       "     ID CONSOLE  YEAR  CATEGORY        PUBLISHER RATING  CRITICS_POINTS  \\\n",
       "0  4310     ps2  2008    action       Tecmo Koei      T        3.928571   \n",
       "1  4011     psp  2007  strategy            Atari   E10+        5.538462   \n",
       "2  2185     ps2  2004   shooter  Electronic Arts      T        3.034483   \n",
       "3  1644       x  2006    action  Electronic Arts      E        2.913043   \n",
       "4   188     3ds  2011    racing          Ubisoft   E10+        1.162162   \n",
       "\n",
       "   USER_POINTS  \n",
       "0     0.482353  \n",
       "1     0.071795  \n",
       "2     0.062044  \n",
       "3     0.880000  \n",
       "4     0.183333  "
      ]
     },
     "execution_count": 124,
     "metadata": {},
     "output_type": "execute_result"
    }
   ],
   "source": [
    "df_test.head()"
   ]
  },
  {
   "cell_type": "code",
   "execution_count": 125,
   "metadata": {},
   "outputs": [
    {
     "data": {
      "text/plain": [
       "USER_POINTS       0\n",
       "CRITICS_POINTS    0\n",
       "RATING            0\n",
       "PUBLISHER         0\n",
       "CATEGORY          0\n",
       "YEAR              0\n",
       "CONSOLE           0\n",
       "ID                0\n",
       "dtype: int64"
      ]
     },
     "execution_count": 125,
     "metadata": {},
     "output_type": "execute_result"
    }
   ],
   "source": [
    "df_test.isnull().sum().sort_values(ascending=False)"
   ]
  },
  {
   "cell_type": "code",
   "execution_count": 126,
   "metadata": {},
   "outputs": [],
   "source": [
    "df_test = df_test.drop(['ID'], 1)"
   ]
  },
  {
   "cell_type": "code",
   "execution_count": 148,
   "metadata": {},
   "outputs": [],
   "source": [
    "df2 = df_test.copy()\n",
    "df2['YEAR'] = df2['YEAR'] - 1990"
   ]
  },
  {
   "cell_type": "code",
   "execution_count": 149,
   "metadata": {},
   "outputs": [
    {
     "data": {
      "text/plain": [
       "{'Electronic Arts': 'Electronic Arts',\n",
       " 'Activision': 'Activision',\n",
       " 'Ubisoft': 'Ubisoft',\n",
       " 'Sony Computer Entertainment': 'Sony Computer Entertainment',\n",
       " 'Take-Two Interactive': 'Take-Two Interactive',\n",
       " 'Nintendo': 'Nintendo',\n",
       " 'Thq': 'Thq',\n",
       " 'Sega': 'Sega',\n",
       " 'Namco Bandai Games': 'Namco Bandai Games',\n",
       " 'Konami Digital Entertainment': 'Konami Digital Entertainment',\n",
       " 'Atari': 'Atari',\n",
       " 'Capcom': 'Capcom',\n",
       " 'Eidos Interactive': 'Eidos Interactive',\n",
       " 'Square Enix': 'Square Enix',\n",
       " 'Vivendi Games': 'Vivendi Games',\n",
       " 'Warner Bros. Interactive Entertainment': 'Warner Bros. Interactive Entertainment',\n",
       " 'Tecmo Koei': 'Tecmo Koei',\n",
       " 'Lucasarts': 'Lucasarts',\n",
       " 'Codemasters': 'Codemasters',\n",
       " 'Microsoft Game Studios': 'rare',\n",
       " 'Deep Silver': 'rare',\n",
       " 'Midway Games': 'rare',\n",
       " '505 Games': 'rare',\n",
       " 'Acclaim Entertainment': 'rare',\n",
       " 'Disney Interactive Studios': 'rare',\n",
       " 'Nippon Ichi Software': 'rare',\n",
       " 'Bethesda Softworks': 'rare',\n",
       " 'Focus Home Interactive': 'rare',\n",
       " 'Ignition Entertainment': 'rare',\n",
       " 'Southpeak Games': 'rare',\n",
       " 'Empire Interactive': 'rare',\n",
       " 'Atlus': 'rare',\n",
       " 'Rising Star Games': 'rare',\n",
       " 'Pqube': 'rare',\n",
       " 'Kalypso Media': 'rare',\n",
       " 'Mtv Games': 'rare',\n",
       " 'Majesco Entertainment': 'rare',\n",
       " 'Tdk Mediactive': 'rare',\n",
       " 'Ubisoft Annecy': 'rare',\n",
       " 'Virgin Interactive': 'rare',\n",
       " 'Squaresoft': 'rare',\n",
       " 'City Interactive': 'rare',\n",
       " 'D3Publisher': 'rare',\n",
       " 'Sony Computer Entertainment Europe': 'rare',\n",
       " 'Paradox Interactive': 'rare',\n",
       " 'Interplay': 'rare',\n",
       " 'Play It': 'rare',\n",
       " 'Ghostlight': 'rare',\n",
       " 'Gathering Of Developers': 'rare',\n",
       " 'Ccp': 'rare',\n",
       " 'Global Star': 'rare',\n",
       " 'Aksys Games': 'rare',\n",
       " 'Sting': 'rare',\n",
       " 'Zoo Digital Publishing': 'rare',\n",
       " 'Screenlife': 'rare',\n",
       " 'Hudson Soft': 'rare',\n",
       " 'Universal Interactive': 'rare',\n",
       " 'From Software': 'rare',\n",
       " 'Black Bean Games': 'rare',\n",
       " 'Popcap Games': 'rare',\n",
       " 'Infogrames': 'rare',\n",
       " 'Rage Software': 'rare',\n",
       " 'Enix Corporation': 'rare',\n",
       " 'Sci': 'rare',\n",
       " 'Playlogic Game Factory': 'rare',\n",
       " 'Unknown': 'rare',\n",
       " 'Brash Entertainment': 'rare',\n",
       " 'Xseed Games': 'rare',\n",
       " 'Banpresto': 'rare',\n",
       " 'Marvelous Interactive': 'rare',\n",
       " 'Activision Value': 'rare',\n",
       " 'Furyu Corporation': 'rare',\n",
       " 'Yacht Club Games': 'rare',\n",
       " 'Idea Factory': 'rare',\n",
       " 'Jowood Productions': 'rare',\n",
       " 'Game Factory': 'rare',\n",
       " 'Indie Games': 'rare',\n",
       " 'Square': 'rare',\n",
       " 'Furyu': 'rare',\n",
       " 'Slightly Mad Studios': 'rare',\n",
       " 'Funbox Media': 'rare',\n",
       " 'Insomniac Games': 'rare',\n",
       " 'Rondomedia': 'rare',\n",
       " 'Idea Factory International': 'rare',\n",
       " 'Aspyr': 'rare',\n",
       " 'Enterbrain': 'rare',\n",
       " 'Gungho': 'rare',\n",
       " 'Rtl': 'rare',\n",
       " 'Xplosiv': 'rare',\n",
       " 'Level 5': 'rare',\n",
       " 'Compile Heart': 'rare',\n",
       " 'Human Entertainment': 'rare',\n",
       " 'Harmonix Music Systems': 'rare',\n",
       " 'Tomy Corporation': 'rare',\n",
       " 'Wanadoo': 'rare',\n",
       " 'Dhm Interactive': 'rare',\n",
       " 'Mindscape': 'rare',\n",
       " 'Nis America': 'rare',\n",
       " 'Milestone S.R.L': 'rare',\n",
       " 'Hmh Interactive': 'rare',\n",
       " 'Pm Studios': 'rare',\n",
       " 'Alternative Software': 'rare',\n",
       " 'Tru Blu Entertainment': 'rare',\n",
       " 'Hello Games': 'rare',\n",
       " 'Inxile Entertainment': 'rare',\n",
       " 'Tripwire Interactive': 'rare',\n",
       " 'Jester Interactive': 'rare',\n",
       " 'Bigben Interactive': 'rare',\n",
       " 'Iceberg Interactive': 'rare',\n",
       " 'Dreamcatcher Interactive': 'rare',\n",
       " 'Bam! Entertainment': 'rare',\n",
       " 'Telltale Games': 'rare',\n",
       " 'Number None': 'rare',\n",
       " 'Little Orbit': 'rare',\n",
       " 'Sunflowers': 'rare',\n",
       " 'Stainless Games': 'rare',\n",
       " 'Media Rings': 'rare',\n",
       " 'Milkstone Studios': 'rare',\n",
       " 'Sammy Corporation': 'rare',\n",
       " 'Psygnosis': 'rare',\n",
       " 'Nordic Games': 'rare',\n",
       " 'Maxis': 'rare',\n",
       " 'Sony Online Entertainment': 'rare',\n",
       " '7Sixty Llc': 'rare',\n",
       " 'Mastiff': 'rare',\n",
       " 'Sierra Entertainment': 'rare',\n",
       " 'Reef Entertainment': 'rare',\n",
       " 'Valve Software': 'rare',\n",
       " 'Oxygen Interactive': 'rare',\n",
       " 'Sold Out': 'rare',\n",
       " 'Hip Interactive': 'rare',\n",
       " 'Valcon Games': 'rare',\n",
       " 'Midas Interactive Entertainment': 'rare',\n",
       " 'Digital Jesters': 'rare',\n",
       " 'Gust': 'rare',\n",
       " 'Microids': 'rare'}"
      ]
     },
     "execution_count": 149,
     "metadata": {},
     "output_type": "execute_result"
    }
   ],
   "source": [
    "c3 = pd.Series(df2['PUBLISHER'].value_counts() / len(df2))\n",
    "grouping_dict3 = {\n",
    "    k: ('rare' if k not in c3[c3 >= 0.01426126640045636].index else k)\n",
    "    for k in c3.index\n",
    "}\n",
    "\n",
    "grouping_dict3"
   ]
  },
  {
   "cell_type": "code",
   "execution_count": 150,
   "metadata": {},
   "outputs": [],
   "source": [
    "df2['PUB_grouped'] = df2['PUBLISHER'].map(grouping_dict)"
   ]
  },
  {
   "cell_type": "code",
   "execution_count": 151,
   "metadata": {},
   "outputs": [
    {
     "data": {
      "text/html": [
       "<div>\n",
       "<style scoped>\n",
       "    .dataframe tbody tr th:only-of-type {\n",
       "        vertical-align: middle;\n",
       "    }\n",
       "\n",
       "    .dataframe tbody tr th {\n",
       "        vertical-align: top;\n",
       "    }\n",
       "\n",
       "    .dataframe thead th {\n",
       "        text-align: right;\n",
       "    }\n",
       "</style>\n",
       "<table border=\"1\" class=\"dataframe\">\n",
       "  <thead>\n",
       "    <tr style=\"text-align: right;\">\n",
       "      <th></th>\n",
       "      <th>CONSOLE</th>\n",
       "      <th>YEAR</th>\n",
       "      <th>CATEGORY</th>\n",
       "      <th>PUBLISHER</th>\n",
       "      <th>RATING</th>\n",
       "      <th>CRITICS_POINTS</th>\n",
       "      <th>USER_POINTS</th>\n",
       "      <th>PUB_grouped</th>\n",
       "    </tr>\n",
       "  </thead>\n",
       "  <tbody>\n",
       "    <tr>\n",
       "      <th>0</th>\n",
       "      <td>ps2</td>\n",
       "      <td>18</td>\n",
       "      <td>action</td>\n",
       "      <td>Tecmo Koei</td>\n",
       "      <td>T</td>\n",
       "      <td>3.928571</td>\n",
       "      <td>0.482353</td>\n",
       "      <td>Tecmo Koei</td>\n",
       "    </tr>\n",
       "    <tr>\n",
       "      <th>1</th>\n",
       "      <td>psp</td>\n",
       "      <td>17</td>\n",
       "      <td>strategy</td>\n",
       "      <td>Atari</td>\n",
       "      <td>E10+</td>\n",
       "      <td>5.538462</td>\n",
       "      <td>0.071795</td>\n",
       "      <td>Atari</td>\n",
       "    </tr>\n",
       "    <tr>\n",
       "      <th>2</th>\n",
       "      <td>ps2</td>\n",
       "      <td>14</td>\n",
       "      <td>shooter</td>\n",
       "      <td>Electronic Arts</td>\n",
       "      <td>T</td>\n",
       "      <td>3.034483</td>\n",
       "      <td>0.062044</td>\n",
       "      <td>Electronic Arts</td>\n",
       "    </tr>\n",
       "    <tr>\n",
       "      <th>3</th>\n",
       "      <td>x</td>\n",
       "      <td>16</td>\n",
       "      <td>action</td>\n",
       "      <td>Electronic Arts</td>\n",
       "      <td>E</td>\n",
       "      <td>2.913043</td>\n",
       "      <td>0.880000</td>\n",
       "      <td>Electronic Arts</td>\n",
       "    </tr>\n",
       "    <tr>\n",
       "      <th>4</th>\n",
       "      <td>3ds</td>\n",
       "      <td>21</td>\n",
       "      <td>racing</td>\n",
       "      <td>Ubisoft</td>\n",
       "      <td>E10+</td>\n",
       "      <td>1.162162</td>\n",
       "      <td>0.183333</td>\n",
       "      <td>Ubisoft</td>\n",
       "    </tr>\n",
       "  </tbody>\n",
       "</table>\n",
       "</div>"
      ],
      "text/plain": [
       "  CONSOLE  YEAR  CATEGORY        PUBLISHER RATING  CRITICS_POINTS  \\\n",
       "0     ps2    18    action       Tecmo Koei      T        3.928571   \n",
       "1     psp    17  strategy            Atari   E10+        5.538462   \n",
       "2     ps2    14   shooter  Electronic Arts      T        3.034483   \n",
       "3       x    16    action  Electronic Arts      E        2.913043   \n",
       "4     3ds    21    racing          Ubisoft   E10+        1.162162   \n",
       "\n",
       "   USER_POINTS      PUB_grouped  \n",
       "0     0.482353       Tecmo Koei  \n",
       "1     0.071795            Atari  \n",
       "2     0.062044  Electronic Arts  \n",
       "3     0.880000  Electronic Arts  \n",
       "4     0.183333          Ubisoft  "
      ]
     },
     "execution_count": 151,
     "metadata": {},
     "output_type": "execute_result"
    }
   ],
   "source": [
    "df2.head()"
   ]
  },
  {
   "cell_type": "code",
   "execution_count": 152,
   "metadata": {},
   "outputs": [],
   "source": [
    "cols_to_use = ['RATING', 'CONSOLE', 'CATEGORY']"
   ]
  },
  {
   "cell_type": "code",
   "execution_count": 153,
   "metadata": {},
   "outputs": [
    {
     "data": {
      "text/html": [
       "<div>\n",
       "<style scoped>\n",
       "    .dataframe tbody tr th:only-of-type {\n",
       "        vertical-align: middle;\n",
       "    }\n",
       "\n",
       "    .dataframe tbody tr th {\n",
       "        vertical-align: top;\n",
       "    }\n",
       "\n",
       "    .dataframe thead th {\n",
       "        text-align: right;\n",
       "    }\n",
       "</style>\n",
       "<table border=\"1\" class=\"dataframe\">\n",
       "  <thead>\n",
       "    <tr style=\"text-align: right;\">\n",
       "      <th></th>\n",
       "      <th>CONSOLE</th>\n",
       "      <th>YEAR</th>\n",
       "      <th>CATEGORY</th>\n",
       "      <th>PUBLISHER</th>\n",
       "      <th>RATING</th>\n",
       "      <th>CRITICS_POINTS</th>\n",
       "      <th>USER_POINTS</th>\n",
       "      <th>PUB_grouped</th>\n",
       "      <th>RATING_grouped</th>\n",
       "      <th>CONSOLE_grouped</th>\n",
       "      <th>CATEGORY_grouped</th>\n",
       "    </tr>\n",
       "  </thead>\n",
       "  <tbody>\n",
       "    <tr>\n",
       "      <th>0</th>\n",
       "      <td>ps2</td>\n",
       "      <td>18</td>\n",
       "      <td>action</td>\n",
       "      <td>Tecmo Koei</td>\n",
       "      <td>T</td>\n",
       "      <td>3.928571</td>\n",
       "      <td>0.482353</td>\n",
       "      <td>Tecmo Koei</td>\n",
       "      <td>T</td>\n",
       "      <td>ps2</td>\n",
       "      <td>action</td>\n",
       "    </tr>\n",
       "    <tr>\n",
       "      <th>1</th>\n",
       "      <td>psp</td>\n",
       "      <td>17</td>\n",
       "      <td>strategy</td>\n",
       "      <td>Atari</td>\n",
       "      <td>E10+</td>\n",
       "      <td>5.538462</td>\n",
       "      <td>0.071795</td>\n",
       "      <td>Atari</td>\n",
       "      <td>E10+</td>\n",
       "      <td>psp</td>\n",
       "      <td>strategy</td>\n",
       "    </tr>\n",
       "    <tr>\n",
       "      <th>2</th>\n",
       "      <td>ps2</td>\n",
       "      <td>14</td>\n",
       "      <td>shooter</td>\n",
       "      <td>Electronic Arts</td>\n",
       "      <td>T</td>\n",
       "      <td>3.034483</td>\n",
       "      <td>0.062044</td>\n",
       "      <td>Electronic Arts</td>\n",
       "      <td>T</td>\n",
       "      <td>ps2</td>\n",
       "      <td>shooter</td>\n",
       "    </tr>\n",
       "    <tr>\n",
       "      <th>3</th>\n",
       "      <td>x</td>\n",
       "      <td>16</td>\n",
       "      <td>action</td>\n",
       "      <td>Electronic Arts</td>\n",
       "      <td>E</td>\n",
       "      <td>2.913043</td>\n",
       "      <td>0.880000</td>\n",
       "      <td>Electronic Arts</td>\n",
       "      <td>E</td>\n",
       "      <td>x</td>\n",
       "      <td>action</td>\n",
       "    </tr>\n",
       "    <tr>\n",
       "      <th>4</th>\n",
       "      <td>3ds</td>\n",
       "      <td>21</td>\n",
       "      <td>racing</td>\n",
       "      <td>Ubisoft</td>\n",
       "      <td>E10+</td>\n",
       "      <td>1.162162</td>\n",
       "      <td>0.183333</td>\n",
       "      <td>Ubisoft</td>\n",
       "      <td>E10+</td>\n",
       "      <td>rare</td>\n",
       "      <td>racing</td>\n",
       "    </tr>\n",
       "  </tbody>\n",
       "</table>\n",
       "</div>"
      ],
      "text/plain": [
       "  CONSOLE  YEAR  CATEGORY        PUBLISHER RATING  CRITICS_POINTS  \\\n",
       "0     ps2    18    action       Tecmo Koei      T        3.928571   \n",
       "1     psp    17  strategy            Atari   E10+        5.538462   \n",
       "2     ps2    14   shooter  Electronic Arts      T        3.034483   \n",
       "3       x    16    action  Electronic Arts      E        2.913043   \n",
       "4     3ds    21    racing          Ubisoft   E10+        1.162162   \n",
       "\n",
       "   USER_POINTS      PUB_grouped RATING_grouped CONSOLE_grouped  \\\n",
       "0     0.482353       Tecmo Koei              T             ps2   \n",
       "1     0.071795            Atari           E10+             psp   \n",
       "2     0.062044  Electronic Arts              T             ps2   \n",
       "3     0.880000  Electronic Arts              E               x   \n",
       "4     0.183333          Ubisoft           E10+            rare   \n",
       "\n",
       "  CATEGORY_grouped  \n",
       "0           action  \n",
       "1         strategy  \n",
       "2          shooter  \n",
       "3           action  \n",
       "4           racing  "
      ]
     },
     "execution_count": 153,
     "metadata": {},
     "output_type": "execute_result"
    }
   ],
   "source": [
    "for col in cols_to_use:\n",
    "    \n",
    "    # calculate the % of cars in each category\n",
    "    temp_df1 = pd.Series(df2[col].value_counts() / len(df2))\n",
    "\n",
    "    # create a dictionary to replace the rare labels with the\n",
    "    # string 'rare'\n",
    "    grouping_dict1 = {\n",
    "        k: ('rare' if k not in temp_df1[temp_df1 >= 0.02852253280091272].index else k)\n",
    "        for k in temp_df1.index\n",
    "    }\n",
    "    \n",
    "    # replace the rare labels\n",
    "    df2[col + '_grouped'] = df2[col].map(grouping_dict1)\n",
    "\n",
    "df2.head()"
   ]
  },
  {
   "cell_type": "code",
   "execution_count": 154,
   "metadata": {},
   "outputs": [],
   "source": [
    "df2 = df2.drop(['CONSOLE', 'CATEGORY', 'PUBLISHER', 'RATING'], 1)"
   ]
  },
  {
   "cell_type": "code",
   "execution_count": 200,
   "metadata": {},
   "outputs": [
    {
     "data": {
      "text/html": [
       "<div>\n",
       "<style scoped>\n",
       "    .dataframe tbody tr th:only-of-type {\n",
       "        vertical-align: middle;\n",
       "    }\n",
       "\n",
       "    .dataframe tbody tr th {\n",
       "        vertical-align: top;\n",
       "    }\n",
       "\n",
       "    .dataframe thead th {\n",
       "        text-align: right;\n",
       "    }\n",
       "</style>\n",
       "<table border=\"1\" class=\"dataframe\">\n",
       "  <thead>\n",
       "    <tr style=\"text-align: right;\">\n",
       "      <th></th>\n",
       "      <th>YEAR</th>\n",
       "      <th>CRITICS_POINTS</th>\n",
       "      <th>USER_POINTS</th>\n",
       "      <th>PUB_grouped</th>\n",
       "      <th>RATING_grouped</th>\n",
       "      <th>CONSOLE_grouped</th>\n",
       "      <th>CATEGORY_grouped</th>\n",
       "      <th>RATING</th>\n",
       "    </tr>\n",
       "  </thead>\n",
       "  <tbody>\n",
       "    <tr>\n",
       "      <th>0</th>\n",
       "      <td>18</td>\n",
       "      <td>3.928571</td>\n",
       "      <td>0.482353</td>\n",
       "      <td>Tecmo Koei</td>\n",
       "      <td>T</td>\n",
       "      <td>ps2</td>\n",
       "      <td>action</td>\n",
       "      <td>3</td>\n",
       "    </tr>\n",
       "    <tr>\n",
       "      <th>1</th>\n",
       "      <td>17</td>\n",
       "      <td>5.538462</td>\n",
       "      <td>0.071795</td>\n",
       "      <td>Atari</td>\n",
       "      <td>E10+</td>\n",
       "      <td>psp</td>\n",
       "      <td>strategy</td>\n",
       "      <td>1</td>\n",
       "    </tr>\n",
       "    <tr>\n",
       "      <th>2</th>\n",
       "      <td>14</td>\n",
       "      <td>3.034483</td>\n",
       "      <td>0.062044</td>\n",
       "      <td>Electronic Arts</td>\n",
       "      <td>T</td>\n",
       "      <td>ps2</td>\n",
       "      <td>shooter</td>\n",
       "      <td>3</td>\n",
       "    </tr>\n",
       "    <tr>\n",
       "      <th>3</th>\n",
       "      <td>16</td>\n",
       "      <td>2.913043</td>\n",
       "      <td>0.880000</td>\n",
       "      <td>Electronic Arts</td>\n",
       "      <td>E</td>\n",
       "      <td>x</td>\n",
       "      <td>action</td>\n",
       "      <td>0</td>\n",
       "    </tr>\n",
       "    <tr>\n",
       "      <th>4</th>\n",
       "      <td>21</td>\n",
       "      <td>1.162162</td>\n",
       "      <td>0.183333</td>\n",
       "      <td>Ubisoft</td>\n",
       "      <td>E10+</td>\n",
       "      <td>rare</td>\n",
       "      <td>racing</td>\n",
       "      <td>1</td>\n",
       "    </tr>\n",
       "  </tbody>\n",
       "</table>\n",
       "</div>"
      ],
      "text/plain": [
       "   YEAR  CRITICS_POINTS  USER_POINTS      PUB_grouped RATING_grouped  \\\n",
       "0    18        3.928571     0.482353       Tecmo Koei              T   \n",
       "1    17        5.538462     0.071795            Atari           E10+   \n",
       "2    14        3.034483     0.062044  Electronic Arts              T   \n",
       "3    16        2.913043     0.880000  Electronic Arts              E   \n",
       "4    21        1.162162     0.183333          Ubisoft           E10+   \n",
       "\n",
       "  CONSOLE_grouped CATEGORY_grouped  RATING  \n",
       "0             ps2           action       3  \n",
       "1             psp         strategy       1  \n",
       "2             ps2          shooter       3  \n",
       "3               x           action       0  \n",
       "4            rare           racing       1  "
      ]
     },
     "execution_count": 200,
     "metadata": {},
     "output_type": "execute_result"
    }
   ],
   "source": [
    "df2.head()"
   ]
  },
  {
   "cell_type": "code",
   "execution_count": 156,
   "metadata": {},
   "outputs": [],
   "source": [
    "le.fit(df2['RATING_grouped'])\n",
    "df2['RATING'] = le.transform(df2['RATING_grouped'])"
   ]
  },
  {
   "cell_type": "code",
   "execution_count": 201,
   "metadata": {},
   "outputs": [],
   "source": [
    "df2 = pd.get_dummies(df2,columns = [ 'CONSOLE_grouped', 'CATEGORY_grouped', 'PUB_grouped'], drop_first=True)"
   ]
  },
  {
   "cell_type": "code",
   "execution_count": 203,
   "metadata": {},
   "outputs": [],
   "source": [
    "df2 = df2.drop(['RATING_grouped'], 1)"
   ]
  },
  {
   "cell_type": "code",
   "execution_count": 204,
   "metadata": {},
   "outputs": [
    {
     "data": {
      "text/html": [
       "<div>\n",
       "<style scoped>\n",
       "    .dataframe tbody tr th:only-of-type {\n",
       "        vertical-align: middle;\n",
       "    }\n",
       "\n",
       "    .dataframe tbody tr th {\n",
       "        vertical-align: top;\n",
       "    }\n",
       "\n",
       "    .dataframe thead th {\n",
       "        text-align: right;\n",
       "    }\n",
       "</style>\n",
       "<table border=\"1\" class=\"dataframe\">\n",
       "  <thead>\n",
       "    <tr style=\"text-align: right;\">\n",
       "      <th></th>\n",
       "      <th>YEAR</th>\n",
       "      <th>CRITICS_POINTS</th>\n",
       "      <th>USER_POINTS</th>\n",
       "      <th>RATING</th>\n",
       "      <th>CONSOLE_grouped_gc</th>\n",
       "      <th>CONSOLE_grouped_pc</th>\n",
       "      <th>CONSOLE_grouped_ps2</th>\n",
       "      <th>CONSOLE_grouped_ps3</th>\n",
       "      <th>CONSOLE_grouped_ps4</th>\n",
       "      <th>CONSOLE_grouped_psp</th>\n",
       "      <th>...</th>\n",
       "      <th>PUB_grouped_Sega</th>\n",
       "      <th>PUB_grouped_Sony Computer Entertainment</th>\n",
       "      <th>PUB_grouped_Square Enix</th>\n",
       "      <th>PUB_grouped_Take-Two Interactive</th>\n",
       "      <th>PUB_grouped_Tecmo Koei</th>\n",
       "      <th>PUB_grouped_Thq</th>\n",
       "      <th>PUB_grouped_Ubisoft</th>\n",
       "      <th>PUB_grouped_Vivendi Games</th>\n",
       "      <th>PUB_grouped_Warner Bros. Interactive Entertainment</th>\n",
       "      <th>PUB_grouped_rare</th>\n",
       "    </tr>\n",
       "  </thead>\n",
       "  <tbody>\n",
       "    <tr>\n",
       "      <th>0</th>\n",
       "      <td>18</td>\n",
       "      <td>3.928571</td>\n",
       "      <td>0.482353</td>\n",
       "      <td>3</td>\n",
       "      <td>0</td>\n",
       "      <td>0</td>\n",
       "      <td>1</td>\n",
       "      <td>0</td>\n",
       "      <td>0</td>\n",
       "      <td>0</td>\n",
       "      <td>...</td>\n",
       "      <td>0</td>\n",
       "      <td>0</td>\n",
       "      <td>0</td>\n",
       "      <td>0</td>\n",
       "      <td>1</td>\n",
       "      <td>0</td>\n",
       "      <td>0</td>\n",
       "      <td>0</td>\n",
       "      <td>0</td>\n",
       "      <td>0</td>\n",
       "    </tr>\n",
       "    <tr>\n",
       "      <th>1</th>\n",
       "      <td>17</td>\n",
       "      <td>5.538462</td>\n",
       "      <td>0.071795</td>\n",
       "      <td>1</td>\n",
       "      <td>0</td>\n",
       "      <td>0</td>\n",
       "      <td>0</td>\n",
       "      <td>0</td>\n",
       "      <td>0</td>\n",
       "      <td>1</td>\n",
       "      <td>...</td>\n",
       "      <td>0</td>\n",
       "      <td>0</td>\n",
       "      <td>0</td>\n",
       "      <td>0</td>\n",
       "      <td>0</td>\n",
       "      <td>0</td>\n",
       "      <td>0</td>\n",
       "      <td>0</td>\n",
       "      <td>0</td>\n",
       "      <td>0</td>\n",
       "    </tr>\n",
       "    <tr>\n",
       "      <th>2</th>\n",
       "      <td>14</td>\n",
       "      <td>3.034483</td>\n",
       "      <td>0.062044</td>\n",
       "      <td>3</td>\n",
       "      <td>0</td>\n",
       "      <td>0</td>\n",
       "      <td>1</td>\n",
       "      <td>0</td>\n",
       "      <td>0</td>\n",
       "      <td>0</td>\n",
       "      <td>...</td>\n",
       "      <td>0</td>\n",
       "      <td>0</td>\n",
       "      <td>0</td>\n",
       "      <td>0</td>\n",
       "      <td>0</td>\n",
       "      <td>0</td>\n",
       "      <td>0</td>\n",
       "      <td>0</td>\n",
       "      <td>0</td>\n",
       "      <td>0</td>\n",
       "    </tr>\n",
       "    <tr>\n",
       "      <th>3</th>\n",
       "      <td>16</td>\n",
       "      <td>2.913043</td>\n",
       "      <td>0.880000</td>\n",
       "      <td>0</td>\n",
       "      <td>0</td>\n",
       "      <td>0</td>\n",
       "      <td>0</td>\n",
       "      <td>0</td>\n",
       "      <td>0</td>\n",
       "      <td>0</td>\n",
       "      <td>...</td>\n",
       "      <td>0</td>\n",
       "      <td>0</td>\n",
       "      <td>0</td>\n",
       "      <td>0</td>\n",
       "      <td>0</td>\n",
       "      <td>0</td>\n",
       "      <td>0</td>\n",
       "      <td>0</td>\n",
       "      <td>0</td>\n",
       "      <td>0</td>\n",
       "    </tr>\n",
       "    <tr>\n",
       "      <th>4</th>\n",
       "      <td>21</td>\n",
       "      <td>1.162162</td>\n",
       "      <td>0.183333</td>\n",
       "      <td>1</td>\n",
       "      <td>0</td>\n",
       "      <td>0</td>\n",
       "      <td>0</td>\n",
       "      <td>0</td>\n",
       "      <td>0</td>\n",
       "      <td>0</td>\n",
       "      <td>...</td>\n",
       "      <td>0</td>\n",
       "      <td>0</td>\n",
       "      <td>0</td>\n",
       "      <td>0</td>\n",
       "      <td>0</td>\n",
       "      <td>0</td>\n",
       "      <td>1</td>\n",
       "      <td>0</td>\n",
       "      <td>0</td>\n",
       "      <td>0</td>\n",
       "    </tr>\n",
       "  </tbody>\n",
       "</table>\n",
       "<p>5 rows × 44 columns</p>\n",
       "</div>"
      ],
      "text/plain": [
       "   YEAR  CRITICS_POINTS  USER_POINTS  RATING  CONSOLE_grouped_gc  \\\n",
       "0    18        3.928571     0.482353       3                   0   \n",
       "1    17        5.538462     0.071795       1                   0   \n",
       "2    14        3.034483     0.062044       3                   0   \n",
       "3    16        2.913043     0.880000       0                   0   \n",
       "4    21        1.162162     0.183333       1                   0   \n",
       "\n",
       "   CONSOLE_grouped_pc  CONSOLE_grouped_ps2  CONSOLE_grouped_ps3  \\\n",
       "0                   0                    1                    0   \n",
       "1                   0                    0                    0   \n",
       "2                   0                    1                    0   \n",
       "3                   0                    0                    0   \n",
       "4                   0                    0                    0   \n",
       "\n",
       "   CONSOLE_grouped_ps4  CONSOLE_grouped_psp  ...  PUB_grouped_Sega  \\\n",
       "0                    0                    0  ...                 0   \n",
       "1                    0                    1  ...                 0   \n",
       "2                    0                    0  ...                 0   \n",
       "3                    0                    0  ...                 0   \n",
       "4                    0                    0  ...                 0   \n",
       "\n",
       "   PUB_grouped_Sony Computer Entertainment  PUB_grouped_Square Enix  \\\n",
       "0                                        0                        0   \n",
       "1                                        0                        0   \n",
       "2                                        0                        0   \n",
       "3                                        0                        0   \n",
       "4                                        0                        0   \n",
       "\n",
       "   PUB_grouped_Take-Two Interactive  PUB_grouped_Tecmo Koei  PUB_grouped_Thq  \\\n",
       "0                                 0                       1                0   \n",
       "1                                 0                       0                0   \n",
       "2                                 0                       0                0   \n",
       "3                                 0                       0                0   \n",
       "4                                 0                       0                0   \n",
       "\n",
       "   PUB_grouped_Ubisoft  PUB_grouped_Vivendi Games  \\\n",
       "0                    0                          0   \n",
       "1                    0                          0   \n",
       "2                    0                          0   \n",
       "3                    0                          0   \n",
       "4                    1                          0   \n",
       "\n",
       "   PUB_grouped_Warner Bros. Interactive Entertainment  PUB_grouped_rare  \n",
       "0                                                  0                  0  \n",
       "1                                                  0                  0  \n",
       "2                                                  0                  0  \n",
       "3                                                  0                  0  \n",
       "4                                                  0                  0  \n",
       "\n",
       "[5 rows x 44 columns]"
      ]
     },
     "execution_count": 204,
     "metadata": {},
     "output_type": "execute_result"
    }
   ],
   "source": [
    "df2.head()"
   ]
  },
  {
   "cell_type": "code",
   "execution_count": 215,
   "metadata": {},
   "outputs": [],
   "source": [
    "X_train = X.drop(['PUB_grouped_Microsoft Game Studios', 'CONSOLE_grouped_gba'], 1)"
   ]
  },
  {
   "cell_type": "code",
   "execution_count": 217,
   "metadata": {},
   "outputs": [
    {
     "data": {
      "text/plain": [
       "(3506, 44)"
      ]
     },
     "execution_count": 217,
     "metadata": {},
     "output_type": "execute_result"
    }
   ],
   "source": [
    "X_train.shape"
   ]
  },
  {
   "cell_type": "code",
   "execution_count": 219,
   "metadata": {},
   "outputs": [],
   "source": [
    "X_test = df2.copy()"
   ]
  },
  {
   "cell_type": "code",
   "execution_count": 209,
   "metadata": {},
   "outputs": [
    {
     "data": {
      "text/plain": [
       "(1503, 44)"
      ]
     },
     "execution_count": 209,
     "metadata": {},
     "output_type": "execute_result"
    }
   ],
   "source": [
    "X_test.shape"
   ]
  },
  {
   "cell_type": "code",
   "execution_count": 189,
   "metadata": {},
   "outputs": [],
   "source": [
    "from sklearn.ensemble import RandomForestRegressor"
   ]
  },
  {
   "cell_type": "code",
   "execution_count": 190,
   "metadata": {},
   "outputs": [],
   "source": [
    "regressor=RandomForestRegressor()"
   ]
  },
  {
   "cell_type": "code",
   "execution_count": 191,
   "metadata": {},
   "outputs": [
    {
     "name": "stdout",
     "output_type": "stream",
     "text": [
      "[100, 200, 300, 400, 500, 600, 700, 800, 900, 1000, 1100, 1200]\n"
     ]
    }
   ],
   "source": [
    "n_estimators = [int(x) for x in np.linspace(start = 100, stop = 1200, num = 12)]\n",
    "print(n_estimators)"
   ]
  },
  {
   "cell_type": "code",
   "execution_count": 192,
   "metadata": {},
   "outputs": [],
   "source": [
    "from sklearn.model_selection import RandomizedSearchCV"
   ]
  },
  {
   "cell_type": "code",
   "execution_count": 193,
   "metadata": {},
   "outputs": [],
   "source": [
    "n_estimators = [int(x) for x in np.linspace(start = 100, stop = 1200, num = 12)]\n",
    "# Number of features to consider at every split\n",
    "max_features = ['auto', 'sqrt']\n",
    "# Maximum number of levels in tree\n",
    "max_depth = [int(x) for x in np.linspace(5, 30, num = 6)]\n",
    "# max_depth.append(None)\n",
    "# Minimum number of samples required to split a node\n",
    "min_samples_split = [2, 5, 10, 15, 100]\n",
    "# Minimum number of samples required at each leaf node\n",
    "min_samples_leaf = [1, 2, 5, 10]"
   ]
  },
  {
   "cell_type": "code",
   "execution_count": 194,
   "metadata": {},
   "outputs": [
    {
     "name": "stdout",
     "output_type": "stream",
     "text": [
      "{'n_estimators': [100, 200, 300, 400, 500, 600, 700, 800, 900, 1000, 1100, 1200], 'max_features': ['auto', 'sqrt'], 'max_depth': [5, 10, 15, 20, 25, 30], 'min_samples_split': [2, 5, 10, 15, 100], 'min_samples_leaf': [1, 2, 5, 10]}\n"
     ]
    }
   ],
   "source": [
    "random_grid = {'n_estimators': n_estimators,\n",
    "               'max_features': max_features,\n",
    "               'max_depth': max_depth,\n",
    "               'min_samples_split': min_samples_split,\n",
    "               'min_samples_leaf': min_samples_leaf}\n",
    "\n",
    "print(random_grid)"
   ]
  },
  {
   "cell_type": "code",
   "execution_count": 195,
   "metadata": {},
   "outputs": [],
   "source": [
    "rf = RandomForestRegressor()"
   ]
  },
  {
   "cell_type": "code",
   "execution_count": 196,
   "metadata": {},
   "outputs": [],
   "source": [
    "rf_random = RandomizedSearchCV(estimator = rf, param_distributions = random_grid,scoring='neg_mean_squared_error', n_iter = 10, cv = 5, verbose=2, random_state=42, n_jobs = 1)"
   ]
  },
  {
   "cell_type": "code",
   "execution_count": 221,
   "metadata": {},
   "outputs": [
    {
     "name": "stdout",
     "output_type": "stream",
     "text": [
      "Fitting 5 folds for each of 10 candidates, totalling 50 fits\n",
      "[CV] n_estimators=900, min_samples_split=5, min_samples_leaf=5, max_features=sqrt, max_depth=10 \n"
     ]
    },
    {
     "name": "stderr",
     "output_type": "stream",
     "text": [
      "[Parallel(n_jobs=1)]: Using backend SequentialBackend with 1 concurrent workers.\n"
     ]
    },
    {
     "name": "stdout",
     "output_type": "stream",
     "text": [
      "[CV]  n_estimators=900, min_samples_split=5, min_samples_leaf=5, max_features=sqrt, max_depth=10, total=   3.4s\n",
      "[CV] n_estimators=900, min_samples_split=5, min_samples_leaf=5, max_features=sqrt, max_depth=10 \n"
     ]
    },
    {
     "name": "stderr",
     "output_type": "stream",
     "text": [
      "[Parallel(n_jobs=1)]: Done   1 out of   1 | elapsed:    3.3s remaining:    0.0s\n"
     ]
    },
    {
     "name": "stdout",
     "output_type": "stream",
     "text": [
      "[CV]  n_estimators=900, min_samples_split=5, min_samples_leaf=5, max_features=sqrt, max_depth=10, total=   3.4s\n",
      "[CV] n_estimators=900, min_samples_split=5, min_samples_leaf=5, max_features=sqrt, max_depth=10 \n",
      "[CV]  n_estimators=900, min_samples_split=5, min_samples_leaf=5, max_features=sqrt, max_depth=10, total=   3.2s\n",
      "[CV] n_estimators=900, min_samples_split=5, min_samples_leaf=5, max_features=sqrt, max_depth=10 \n",
      "[CV]  n_estimators=900, min_samples_split=5, min_samples_leaf=5, max_features=sqrt, max_depth=10, total=   3.6s\n",
      "[CV] n_estimators=900, min_samples_split=5, min_samples_leaf=5, max_features=sqrt, max_depth=10 \n",
      "[CV]  n_estimators=900, min_samples_split=5, min_samples_leaf=5, max_features=sqrt, max_depth=10, total=   5.3s\n",
      "[CV] n_estimators=1100, min_samples_split=10, min_samples_leaf=2, max_features=sqrt, max_depth=15 \n",
      "[CV]  n_estimators=1100, min_samples_split=10, min_samples_leaf=2, max_features=sqrt, max_depth=15, total=   7.9s\n",
      "[CV] n_estimators=1100, min_samples_split=10, min_samples_leaf=2, max_features=sqrt, max_depth=15 \n",
      "[CV]  n_estimators=1100, min_samples_split=10, min_samples_leaf=2, max_features=sqrt, max_depth=15, total=   7.3s\n",
      "[CV] n_estimators=1100, min_samples_split=10, min_samples_leaf=2, max_features=sqrt, max_depth=15 \n",
      "[CV]  n_estimators=1100, min_samples_split=10, min_samples_leaf=2, max_features=sqrt, max_depth=15, total=   6.1s\n",
      "[CV] n_estimators=1100, min_samples_split=10, min_samples_leaf=2, max_features=sqrt, max_depth=15 \n",
      "[CV]  n_estimators=1100, min_samples_split=10, min_samples_leaf=2, max_features=sqrt, max_depth=15, total=   5.2s\n",
      "[CV] n_estimators=1100, min_samples_split=10, min_samples_leaf=2, max_features=sqrt, max_depth=15 \n",
      "[CV]  n_estimators=1100, min_samples_split=10, min_samples_leaf=2, max_features=sqrt, max_depth=15, total=   6.1s\n",
      "[CV] n_estimators=300, min_samples_split=100, min_samples_leaf=5, max_features=auto, max_depth=15 \n",
      "[CV]  n_estimators=300, min_samples_split=100, min_samples_leaf=5, max_features=auto, max_depth=15, total=   4.8s\n",
      "[CV] n_estimators=300, min_samples_split=100, min_samples_leaf=5, max_features=auto, max_depth=15 \n",
      "[CV]  n_estimators=300, min_samples_split=100, min_samples_leaf=5, max_features=auto, max_depth=15, total=   3.6s\n",
      "[CV] n_estimators=300, min_samples_split=100, min_samples_leaf=5, max_features=auto, max_depth=15 \n",
      "[CV]  n_estimators=300, min_samples_split=100, min_samples_leaf=5, max_features=auto, max_depth=15, total=   3.7s\n",
      "[CV] n_estimators=300, min_samples_split=100, min_samples_leaf=5, max_features=auto, max_depth=15 \n",
      "[CV]  n_estimators=300, min_samples_split=100, min_samples_leaf=5, max_features=auto, max_depth=15, total=   3.5s\n",
      "[CV] n_estimators=300, min_samples_split=100, min_samples_leaf=5, max_features=auto, max_depth=15 \n",
      "[CV]  n_estimators=300, min_samples_split=100, min_samples_leaf=5, max_features=auto, max_depth=15, total=   3.5s\n",
      "[CV] n_estimators=400, min_samples_split=5, min_samples_leaf=5, max_features=auto, max_depth=15 \n",
      "[CV]  n_estimators=400, min_samples_split=5, min_samples_leaf=5, max_features=auto, max_depth=15, total=   6.1s\n",
      "[CV] n_estimators=400, min_samples_split=5, min_samples_leaf=5, max_features=auto, max_depth=15 \n",
      "[CV]  n_estimators=400, min_samples_split=5, min_samples_leaf=5, max_features=auto, max_depth=15, total=   6.4s\n",
      "[CV] n_estimators=400, min_samples_split=5, min_samples_leaf=5, max_features=auto, max_depth=15 \n",
      "[CV]  n_estimators=400, min_samples_split=5, min_samples_leaf=5, max_features=auto, max_depth=15, total=   6.4s\n",
      "[CV] n_estimators=400, min_samples_split=5, min_samples_leaf=5, max_features=auto, max_depth=15 \n",
      "[CV]  n_estimators=400, min_samples_split=5, min_samples_leaf=5, max_features=auto, max_depth=15, total=   6.2s\n",
      "[CV] n_estimators=400, min_samples_split=5, min_samples_leaf=5, max_features=auto, max_depth=15 \n",
      "[CV]  n_estimators=400, min_samples_split=5, min_samples_leaf=5, max_features=auto, max_depth=15, total=   6.3s\n",
      "[CV] n_estimators=700, min_samples_split=5, min_samples_leaf=10, max_features=auto, max_depth=20 \n",
      "[CV]  n_estimators=700, min_samples_split=5, min_samples_leaf=10, max_features=auto, max_depth=20, total=  10.3s\n",
      "[CV] n_estimators=700, min_samples_split=5, min_samples_leaf=10, max_features=auto, max_depth=20 \n",
      "[CV]  n_estimators=700, min_samples_split=5, min_samples_leaf=10, max_features=auto, max_depth=20, total=  10.5s\n",
      "[CV] n_estimators=700, min_samples_split=5, min_samples_leaf=10, max_features=auto, max_depth=20 \n",
      "[CV]  n_estimators=700, min_samples_split=5, min_samples_leaf=10, max_features=auto, max_depth=20, total=  10.3s\n",
      "[CV] n_estimators=700, min_samples_split=5, min_samples_leaf=10, max_features=auto, max_depth=20 \n",
      "[CV]  n_estimators=700, min_samples_split=5, min_samples_leaf=10, max_features=auto, max_depth=20, total=  10.7s\n",
      "[CV] n_estimators=700, min_samples_split=5, min_samples_leaf=10, max_features=auto, max_depth=20 \n",
      "[CV]  n_estimators=700, min_samples_split=5, min_samples_leaf=10, max_features=auto, max_depth=20, total=  10.5s\n",
      "[CV] n_estimators=1000, min_samples_split=2, min_samples_leaf=1, max_features=sqrt, max_depth=25 \n",
      "[CV]  n_estimators=1000, min_samples_split=2, min_samples_leaf=1, max_features=sqrt, max_depth=25, total=   8.1s\n",
      "[CV] n_estimators=1000, min_samples_split=2, min_samples_leaf=1, max_features=sqrt, max_depth=25 \n",
      "[CV]  n_estimators=1000, min_samples_split=2, min_samples_leaf=1, max_features=sqrt, max_depth=25, total=   8.9s\n",
      "[CV] n_estimators=1000, min_samples_split=2, min_samples_leaf=1, max_features=sqrt, max_depth=25 \n",
      "[CV]  n_estimators=1000, min_samples_split=2, min_samples_leaf=1, max_features=sqrt, max_depth=25, total=  10.1s\n",
      "[CV] n_estimators=1000, min_samples_split=2, min_samples_leaf=1, max_features=sqrt, max_depth=25 \n",
      "[CV]  n_estimators=1000, min_samples_split=2, min_samples_leaf=1, max_features=sqrt, max_depth=25, total=   8.3s\n",
      "[CV] n_estimators=1000, min_samples_split=2, min_samples_leaf=1, max_features=sqrt, max_depth=25 \n",
      "[CV]  n_estimators=1000, min_samples_split=2, min_samples_leaf=1, max_features=sqrt, max_depth=25, total=   8.0s\n",
      "[CV] n_estimators=1100, min_samples_split=15, min_samples_leaf=10, max_features=sqrt, max_depth=5 \n",
      "[CV]  n_estimators=1100, min_samples_split=15, min_samples_leaf=10, max_features=sqrt, max_depth=5, total=   3.2s\n",
      "[CV] n_estimators=1100, min_samples_split=15, min_samples_leaf=10, max_features=sqrt, max_depth=5 \n",
      "[CV]  n_estimators=1100, min_samples_split=15, min_samples_leaf=10, max_features=sqrt, max_depth=5, total=   3.4s\n",
      "[CV] n_estimators=1100, min_samples_split=15, min_samples_leaf=10, max_features=sqrt, max_depth=5 \n",
      "[CV]  n_estimators=1100, min_samples_split=15, min_samples_leaf=10, max_features=sqrt, max_depth=5, total=   3.4s\n",
      "[CV] n_estimators=1100, min_samples_split=15, min_samples_leaf=10, max_features=sqrt, max_depth=5 \n",
      "[CV]  n_estimators=1100, min_samples_split=15, min_samples_leaf=10, max_features=sqrt, max_depth=5, total=   5.0s\n",
      "[CV] n_estimators=1100, min_samples_split=15, min_samples_leaf=10, max_features=sqrt, max_depth=5 \n",
      "[CV]  n_estimators=1100, min_samples_split=15, min_samples_leaf=10, max_features=sqrt, max_depth=5, total=   3.4s\n",
      "[CV] n_estimators=300, min_samples_split=15, min_samples_leaf=1, max_features=sqrt, max_depth=15 \n",
      "[CV]  n_estimators=300, min_samples_split=15, min_samples_leaf=1, max_features=sqrt, max_depth=15, total=   1.5s\n",
      "[CV] n_estimators=300, min_samples_split=15, min_samples_leaf=1, max_features=sqrt, max_depth=15 \n",
      "[CV]  n_estimators=300, min_samples_split=15, min_samples_leaf=1, max_features=sqrt, max_depth=15, total=   1.6s\n",
      "[CV] n_estimators=300, min_samples_split=15, min_samples_leaf=1, max_features=sqrt, max_depth=15 \n",
      "[CV]  n_estimators=300, min_samples_split=15, min_samples_leaf=1, max_features=sqrt, max_depth=15, total=   1.4s\n",
      "[CV] n_estimators=300, min_samples_split=15, min_samples_leaf=1, max_features=sqrt, max_depth=15 \n",
      "[CV]  n_estimators=300, min_samples_split=15, min_samples_leaf=1, max_features=sqrt, max_depth=15, total=   1.4s\n",
      "[CV] n_estimators=300, min_samples_split=15, min_samples_leaf=1, max_features=sqrt, max_depth=15 \n",
      "[CV]  n_estimators=300, min_samples_split=15, min_samples_leaf=1, max_features=sqrt, max_depth=15, total=   1.4s\n",
      "[CV] n_estimators=700, min_samples_split=10, min_samples_leaf=2, max_features=sqrt, max_depth=5 \n"
     ]
    },
    {
     "name": "stdout",
     "output_type": "stream",
     "text": [
      "[CV]  n_estimators=700, min_samples_split=10, min_samples_leaf=2, max_features=sqrt, max_depth=5, total=   2.3s\n",
      "[CV] n_estimators=700, min_samples_split=10, min_samples_leaf=2, max_features=sqrt, max_depth=5 \n",
      "[CV]  n_estimators=700, min_samples_split=10, min_samples_leaf=2, max_features=sqrt, max_depth=5, total=   2.5s\n",
      "[CV] n_estimators=700, min_samples_split=10, min_samples_leaf=2, max_features=sqrt, max_depth=5 \n",
      "[CV]  n_estimators=700, min_samples_split=10, min_samples_leaf=2, max_features=sqrt, max_depth=5, total=   2.4s\n",
      "[CV] n_estimators=700, min_samples_split=10, min_samples_leaf=2, max_features=sqrt, max_depth=5 \n",
      "[CV]  n_estimators=700, min_samples_split=10, min_samples_leaf=2, max_features=sqrt, max_depth=5, total=   2.6s\n",
      "[CV] n_estimators=700, min_samples_split=10, min_samples_leaf=2, max_features=sqrt, max_depth=5 \n",
      "[CV]  n_estimators=700, min_samples_split=10, min_samples_leaf=2, max_features=sqrt, max_depth=5, total=   2.8s\n",
      "[CV] n_estimators=700, min_samples_split=15, min_samples_leaf=1, max_features=auto, max_depth=20 \n",
      "[CV]  n_estimators=700, min_samples_split=15, min_samples_leaf=1, max_features=auto, max_depth=20, total=  12.8s\n",
      "[CV] n_estimators=700, min_samples_split=15, min_samples_leaf=1, max_features=auto, max_depth=20 \n",
      "[CV]  n_estimators=700, min_samples_split=15, min_samples_leaf=1, max_features=auto, max_depth=20, total=  14.1s\n",
      "[CV] n_estimators=700, min_samples_split=15, min_samples_leaf=1, max_features=auto, max_depth=20 \n",
      "[CV]  n_estimators=700, min_samples_split=15, min_samples_leaf=1, max_features=auto, max_depth=20, total=  13.2s\n",
      "[CV] n_estimators=700, min_samples_split=15, min_samples_leaf=1, max_features=auto, max_depth=20 \n",
      "[CV]  n_estimators=700, min_samples_split=15, min_samples_leaf=1, max_features=auto, max_depth=20, total=  12.3s\n",
      "[CV] n_estimators=700, min_samples_split=15, min_samples_leaf=1, max_features=auto, max_depth=20 \n",
      "[CV]  n_estimators=700, min_samples_split=15, min_samples_leaf=1, max_features=auto, max_depth=20, total=  13.4s\n"
     ]
    },
    {
     "name": "stderr",
     "output_type": "stream",
     "text": [
      "[Parallel(n_jobs=1)]: Done  50 out of  50 | elapsed:  5.0min finished\n"
     ]
    },
    {
     "data": {
      "text/plain": [
       "RandomizedSearchCV(cv=5, error_score=nan,\n",
       "                   estimator=RandomForestRegressor(bootstrap=True,\n",
       "                                                   ccp_alpha=0.0,\n",
       "                                                   criterion='mse',\n",
       "                                                   max_depth=None,\n",
       "                                                   max_features='auto',\n",
       "                                                   max_leaf_nodes=None,\n",
       "                                                   max_samples=None,\n",
       "                                                   min_impurity_decrease=0.0,\n",
       "                                                   min_impurity_split=None,\n",
       "                                                   min_samples_leaf=1,\n",
       "                                                   min_samples_split=2,\n",
       "                                                   min_weight_fraction_leaf=0.0,\n",
       "                                                   n_estimators=100,\n",
       "                                                   n_jobs=None, oob_score=Fals...\n",
       "                   iid='deprecated', n_iter=10, n_jobs=1,\n",
       "                   param_distributions={'max_depth': [5, 10, 15, 20, 25, 30],\n",
       "                                        'max_features': ['auto', 'sqrt'],\n",
       "                                        'min_samples_leaf': [1, 2, 5, 10],\n",
       "                                        'min_samples_split': [2, 5, 10, 15,\n",
       "                                                              100],\n",
       "                                        'n_estimators': [100, 200, 300, 400,\n",
       "                                                         500, 600, 700, 800,\n",
       "                                                         900, 1000, 1100,\n",
       "                                                         1200]},\n",
       "                   pre_dispatch='2*n_jobs', random_state=42, refit=True,\n",
       "                   return_train_score=False, scoring='neg_mean_squared_error',\n",
       "                   verbose=2)"
      ]
     },
     "execution_count": 221,
     "metadata": {},
     "output_type": "execute_result"
    }
   ],
   "source": [
    "rf_random.fit(X_train,Y)"
   ]
  },
  {
   "cell_type": "code",
   "execution_count": 222,
   "metadata": {},
   "outputs": [
    {
     "data": {
      "text/plain": [
       "{'n_estimators': 1000,\n",
       " 'min_samples_split': 2,\n",
       " 'min_samples_leaf': 1,\n",
       " 'max_features': 'sqrt',\n",
       " 'max_depth': 25}"
      ]
     },
     "execution_count": 222,
     "metadata": {},
     "output_type": "execute_result"
    }
   ],
   "source": [
    "rf_random.best_params_"
   ]
  },
  {
   "cell_type": "code",
   "execution_count": 223,
   "metadata": {},
   "outputs": [],
   "source": [
    "y_pred=rf_random.predict(X_test)"
   ]
  },
  {
   "cell_type": "code",
   "execution_count": 226,
   "metadata": {},
   "outputs": [],
   "source": [
    "y_test = pd.read_csv(r'C:\\Users\\asus\\Desktop\\Kaggle datset\\Books dataset\\Sample_Submission.csv')"
   ]
  },
  {
   "cell_type": "code",
   "execution_count": 228,
   "metadata": {},
   "outputs": [
    {
     "data": {
      "text/plain": [
       "<matplotlib.collections.PathCollection at 0x1c4c1896b08>"
      ]
     },
     "execution_count": 228,
     "metadata": {},
     "output_type": "execute_result"
    },
    {
     "data": {
      "image/png": "[encoded data removed]",
      "text/plain": [
       "<Figure size 432x288 with 1 Axes>"
      ]
     },
     "metadata": {
      "needs_background": "light"
     },
     "output_type": "display_data"
    }
   ],
   "source": [
    "plt.scatter(y_test, y_pred)"
   ]
  },
  {
   "cell_type": "code",
   "execution_count": 230,
   "metadata": {},
   "outputs": [
    {
     "name": "stdout",
     "output_type": "stream",
     "text": [
      "MAE: 0.38856457083170576\n",
      "MSE: 0.6717302562621777\n",
      "RMSE: 0.8195915179296195\n"
     ]
    }
   ],
   "source": [
    "from sklearn import metrics\n",
    "print('MAE:', metrics.mean_absolute_error(y_test, y_pred))\n",
    "print('MSE:', metrics.mean_squared_error(y_test, y_pred))\n",
    "print('RMSE:', np.sqrt(metrics.mean_squared_error(y_test, y_pred)))"
   ]
  },
  {
   "cell_type": "code",
   "execution_count": 231,
   "metadata": {},
   "outputs": [
    {
     "data": {
      "text/html": [
       "<div>\n",
       "<style scoped>\n",
       "    .dataframe tbody tr th:only-of-type {\n",
       "        vertical-align: middle;\n",
       "    }\n",
       "\n",
       "    .dataframe tbody tr th {\n",
       "        vertical-align: top;\n",
       "    }\n",
       "\n",
       "    .dataframe thead th {\n",
       "        text-align: right;\n",
       "    }\n",
       "</style>\n",
       "<table border=\"1\" class=\"dataframe\">\n",
       "  <thead>\n",
       "    <tr style=\"text-align: right;\">\n",
       "      <th></th>\n",
       "      <th>SalesInMillions</th>\n",
       "    </tr>\n",
       "  </thead>\n",
       "  <tbody>\n",
       "    <tr>\n",
       "      <th>0</th>\n",
       "      <td>1.497533</td>\n",
       "    </tr>\n",
       "    <tr>\n",
       "      <th>1</th>\n",
       "      <td>2.368795</td>\n",
       "    </tr>\n",
       "    <tr>\n",
       "      <th>2</th>\n",
       "      <td>2.630505</td>\n",
       "    </tr>\n",
       "    <tr>\n",
       "      <th>3</th>\n",
       "      <td>2.506086</td>\n",
       "    </tr>\n",
       "    <tr>\n",
       "      <th>4</th>\n",
       "      <td>1.970574</td>\n",
       "    </tr>\n",
       "    <tr>\n",
       "      <th>...</th>\n",
       "      <td>...</td>\n",
       "    </tr>\n",
       "    <tr>\n",
       "      <th>1498</th>\n",
       "      <td>2.456946</td>\n",
       "    </tr>\n",
       "    <tr>\n",
       "      <th>1499</th>\n",
       "      <td>1.222738</td>\n",
       "    </tr>\n",
       "    <tr>\n",
       "      <th>1500</th>\n",
       "      <td>1.591085</td>\n",
       "    </tr>\n",
       "    <tr>\n",
       "      <th>1501</th>\n",
       "      <td>1.805565</td>\n",
       "    </tr>\n",
       "    <tr>\n",
       "      <th>1502</th>\n",
       "      <td>2.354663</td>\n",
       "    </tr>\n",
       "  </tbody>\n",
       "</table>\n",
       "<p>1503 rows × 1 columns</p>\n",
       "</div>"
      ],
      "text/plain": [
       "      SalesInMillions\n",
       "0            1.497533\n",
       "1            2.368795\n",
       "2            2.630505\n",
       "3            2.506086\n",
       "4            1.970574\n",
       "...               ...\n",
       "1498         2.456946\n",
       "1499         1.222738\n",
       "1500         1.591085\n",
       "1501         1.805565\n",
       "1502         2.354663\n",
       "\n",
       "[1503 rows x 1 columns]"
      ]
     },
     "execution_count": 231,
     "metadata": {},
     "output_type": "execute_result"
    }
   ],
   "source": [
    "y_test"
   ]
  },
  {
   "cell_type": "code",
   "execution_count": 232,
   "metadata": {},
   "outputs": [
    {
     "data": {
      "text/plain": [
       "array([1.69096589, 2.14437629, 3.83988626, ..., 1.67521622, 2.03574953,\n",
       "       2.39511751])"
      ]
     },
     "execution_count": 232,
     "metadata": {},
     "output_type": "execute_result"
    }
   ],
   "source": [
    "y_pred"
   ]
  },
  {
   "cell_type": "code",
   "execution_count": null,
   "metadata": {},
   "outputs": [],
   "source": []
  }
 ],
 "metadata": {
  "kernelspec": {
   "display_name": "Python 3",
   "language": "python",
   "name": "python3"
  },
  "language_info": {
   "codemirror_mode": {
    "name": "ipython",
    "version": 3
   },
   "file_extension": ".py",
   "mimetype": "text/x-python",
   "name": "python",
   "nbconvert_exporter": "python",
   "pygments_lexer": "ipython3",
   "version": "3.7.6"
  }
 },
 "nbformat": 4,
 "nbformat_minor": 4
}
